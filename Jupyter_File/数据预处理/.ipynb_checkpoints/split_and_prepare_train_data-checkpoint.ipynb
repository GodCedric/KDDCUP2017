{
 "cells": [
  {
   "cell_type": "markdown",
   "metadata": {},
   "source": [
    "# split and prepare train data"
   ]
  },
  {
   "cell_type": "markdown",
   "metadata": {},
   "source": [
    "2017-05-23"
   ]
  },
  {
   "cell_type": "code",
   "execution_count": 1,
   "metadata": {
    "collapsed": true
   },
   "outputs": [],
   "source": [
    "import numpy as np\n",
    "import pandas as pd\n",
    "from datetime import datetime,timedelta,date,time"
   ]
  },
  {
   "cell_type": "markdown",
   "metadata": {},
   "source": [
    "### 录入数据"
   ]
  },
  {
   "cell_type": "code",
   "execution_count": 2,
   "metadata": {
    "collapsed": true
   },
   "outputs": [],
   "source": [
    "travel_time_train_data = pd.read_csv('/home/godcedric/GitLocal/KDDCUP2017/final_data/加工好的数据/5.5/travel_time_train_data.csv')\n",
    "volume_train_data = pd.read_csv('/home/godcedric/GitLocal/KDDCUP2017/final_data/加工好的数据/5.5/volume_train_data.csv')\n",
    "travel_time_test_data = pd.read_csv('/home/godcedric/GitLocal/KDDCUP2017/final_data/加工好的数据/6.5/test_travel_time_data.csv')\n",
    "volume_test_data = pd.read_csv('/home/godcedric/GitLocal/KDDCUP2017/final_data/加工好的数据/6.5/test_volume_data.csv')"
   ]
  },
  {
   "cell_type": "markdown",
   "metadata": {},
   "source": [
    "### 只取9.19之后的数据"
   ]
  },
  {
   "cell_type": "code",
   "execution_count": 4,
   "metadata": {
    "collapsed": false
   },
   "outputs": [],
   "source": [
    "start_date = date(2016,9,19)\n",
    "travel_time_train_data['date'] = pd.to_datetime(travel_time_train_data['date'], format='%Y-%m-%d')\n",
    "travel_time_train_data = travel_time_train_data[travel_time_train_data['date'] >= start_date]"
   ]
  },
  {
   "cell_type": "markdown",
   "metadata": {},
   "source": [
    "### 删除十一节假日的数据"
   ]
  },
  {
   "cell_type": "code",
   "execution_count": 5,
   "metadata": {
    "collapsed": false
   },
   "outputs": [],
   "source": [
    "# 删除流量的节假日数据\n",
    "volume_train_data = volume_train_data[volume_train_data['is_workday'] != 3]\n",
    "dropindex = volume_train_data[(volume_train_data['pair'] == '1-0') & (volume_train_data['date'] == date(2016,9,30))].index\n",
    "volume_train_data = volume_train_data.drop(dropindex, axis=0)"
   ]
  },
  {
   "cell_type": "code",
   "execution_count": 6,
   "metadata": {
    "collapsed": false
   },
   "outputs": [
    {
     "data": {
      "text/plain": [
       "array(['2016-09-19', '2016-09-20', '2016-09-21', '2016-09-22',\n",
       "       '2016-09-23', '2016-09-24', '2016-09-25', '2016-09-26',\n",
       "       '2016-09-27', '2016-09-28', '2016-09-29', '2016-10-08',\n",
       "       '2016-10-09', '2016-10-10', '2016-10-11', '2016-10-12',\n",
       "       '2016-10-13', '2016-10-14', '2016-10-15', '2016-10-16',\n",
       "       '2016-10-17', '2016-10-18', '2016-10-19', '2016-10-20',\n",
       "       '2016-10-21', '2016-10-22', '2016-10-23', '2016-10-24', '2016-09-30'], dtype=object)"
      ]
     },
     "execution_count": 6,
     "metadata": {},
     "output_type": "execute_result"
    }
   ],
   "source": [
    "volume_train_data['date'].unique()"
   ]
  },
  {
   "cell_type": "markdown",
   "metadata": {},
   "source": [
    "### 根据路线，收费站进出对分割数据"
   ]
  },
  {
   "cell_type": "code",
   "execution_count": 10,
   "metadata": {
    "collapsed": false
   },
   "outputs": [],
   "source": [
    "A2_train_data = travel_time_train_data[travel_time_train_data['route'] == 'A-2']\n",
    "A3_train_data = travel_time_train_data[travel_time_train_data['route'] == 'A-3']\n",
    "B1_train_data = travel_time_train_data[travel_time_train_data['route'] == 'B-1']\n",
    "B3_train_data = travel_time_train_data[travel_time_train_data['route'] == 'B-3']\n",
    "C1_train_data = travel_time_train_data[travel_time_train_data['route'] == 'C-1']\n",
    "C3_train_data = travel_time_train_data[travel_time_train_data['route'] == 'C-3']\n",
    "\n",
    "A2_test_data = travel_time_test_data[travel_time_test_data['route'] == 'A-2']\n",
    "A3_test_data = travel_time_test_data[travel_time_test_data['route'] == 'A-3']\n",
    "B1_test_data = travel_time_test_data[travel_time_test_data['route'] == 'B-1']\n",
    "B3_test_data = travel_time_test_data[travel_time_test_data['route'] == 'B-3']\n",
    "C1_test_data = travel_time_test_data[travel_time_test_data['route'] == 'C-1']\n",
    "C3_test_data = travel_time_test_data[travel_time_test_data['route'] == 'C-3']\n"
   ]
  },
  {
   "cell_type": "code",
   "execution_count": 11,
   "metadata": {
    "collapsed": false
   },
   "outputs": [],
   "source": [
    "V10_train_data = volume_train_data[volume_train_data['pair'] == '1-0']\n",
    "V11_train_data = volume_train_data[volume_train_data['pair'] == '1-1']\n",
    "V20_train_data = volume_train_data[volume_train_data['pair'] == '2-0']\n",
    "V30_train_data = volume_train_data[volume_train_data['pair'] == '3-0']\n",
    "V31_train_data = volume_train_data[volume_train_data['pair'] == '3-1']\n",
    "\n",
    "V10_test_data = volume_test_data[volume_test_data['pair'] == '1-0']\n",
    "V11_test_data = volume_test_data[volume_test_data['pair'] == '1-1']\n",
    "V20_test_data = volume_test_data[volume_test_data['pair'] == '2-0']\n",
    "V30_test_data = volume_test_data[volume_test_data['pair'] == '3-0']\n",
    "V31_test_data = volume_test_data[volume_test_data['pair'] == '3-1']\n"
   ]
  },
  {
   "cell_type": "markdown",
   "metadata": {},
   "source": [
    "### 特征选择"
   ]
  },
  {
   "cell_type": "code",
   "execution_count": 28,
   "metadata": {
    "collapsed": false
   },
   "outputs": [],
   "source": [
    "# 非独热非量化\n",
    "travel_time_features = ['avg_travel_time',\\\n",
    "                        'hour', 'minute', 'weekday', 'timemap',\\\n",
    "                        'pressure', 'wind_direction', 'wind_speed', 'temperature', 'rel_humidity', 'precipitation',\\\n",
    "                        #'last_20min',\\\n",
    "                        'SSD',\\\n",
    "                        'is_workday'  \n",
    "                       ]\n",
    "travel_time_features2 = ['hour', 'minute', 'weekday', 'timemap',\\\n",
    "                        'pressure', 'wind_direction', 'wind_speed', 'temperature', 'rel_humidity', 'precipitation',\\\n",
    "                        #'last_20min',\\\n",
    "                        'SSD',\\\n",
    "                        'is_workday' \n",
    "                       ]\n",
    "volume_features = ['volume',\\\n",
    "                   'hour', 'minute', 'weekday', 'timemap',\\\n",
    "                   'pressure', 'wind_direction', 'wind_speed', 'temperature', 'rel_humidity', 'precipitation',\\\n",
    "                   #'last_20min',\\\n",
    "                   'SSD',\\\n",
    "                   'is_workday'  \n",
    "                  ]\n",
    "volume_features2 = ['hour', 'minute', 'weekday', 'timemap',\\\n",
    "                   'pressure', 'wind_direction', 'wind_speed', 'temperature', 'rel_humidity', 'precipitation',\\\n",
    "                   #'last_20min',\\\n",
    "                   'SSD',\\\n",
    "                   'is_workday'  \n",
    "                  ]"
   ]
  },
  {
   "cell_type": "code",
   "execution_count": 18,
   "metadata": {
    "collapsed": true
   },
   "outputs": [],
   "source": [
    "# 独热 非量化\n",
    "travel_time_features = ['avg_travel_time',\\\n",
    "                        'pressure', 'wind_direction', 'wind_speed', 'temperature', 'rel_humidity', 'precipitation',\\\n",
    "                        'SSD',\\\n",
    "                        'hour__0', 'hour__1', 'hour__2', 'hour__3', 'hour__4',\\\n",
    "                        'hour__5', 'hour__6', 'hour__7', 'hour__8', 'hour__9', 'hour__10',\\\n",
    "                        'hour__11', 'hour__12', 'hour__13', 'hour__14', 'hour__15', 'hour__16',\\\n",
    "                        'hour__17', 'hour__18', 'hour__19', 'hour__20', 'hour__21', 'hour__22',\\\n",
    "                        'hour__23', 'minute__0', 'minute__20', 'minute__40', 'weekday__0',\\\n",
    "                        'weekday__1', 'weekday__2', 'weekday__3', 'weekday__4', 'weekday__5',\\\n",
    "                        'weekday__6', 'workday__1', 'workday__2', \n",
    "                       ]\n",
    "travel_time_features2 = ['pressure', 'wind_direction', 'wind_speed', 'temperature', 'rel_humidity', 'precipitation',\\\n",
    "                        'SSD',\\\n",
    "                        'hour__0', 'hour__1', 'hour__2', 'hour__3', 'hour__4',\\\n",
    "                        'hour__5', 'hour__6', 'hour__7', 'hour__8', 'hour__9', 'hour__10',\\\n",
    "                        'hour__11', 'hour__12', 'hour__13', 'hour__14', 'hour__15', 'hour__16',\\\n",
    "                        'hour__17', 'hour__18', 'hour__19', 'hour__20', 'hour__21', 'hour__22',\\\n",
    "                        'hour__23', 'minute__0', 'minute__20', 'minute__40', 'weekday__0',\\\n",
    "                        'weekday__1', 'weekday__2', 'weekday__3', 'weekday__4', 'weekday__5',\\\n",
    "                        'weekday__6', 'workday__1', 'workday__2', \n",
    "                       ]\n",
    "volume_features = ['volume',\\\n",
    "                   'pressure', 'wind_direction', 'wind_speed', 'temperature', 'rel_humidity', 'precipitation',\\\n",
    "                   'SSD',\\\n",
    "                   'hour__0', 'hour__1', 'hour__2', 'hour__3', 'hour__4',\\\n",
    "                   'hour__5', 'hour__6', 'hour__7', 'hour__8', 'hour__9', 'hour__10',\\\n",
    "                   'hour__11', 'hour__12', 'hour__13', 'hour__14', 'hour__15', 'hour__16',\\\n",
    "                   'hour__17', 'hour__18', 'hour__19', 'hour__20', 'hour__21', 'hour__22',\\\n",
    "                   'hour__23', 'minute__0', 'minute__20', 'minute__40', 'weekday__0',\\\n",
    "                   'weekday__1', 'weekday__2', 'weekday__3', 'weekday__4', 'weekday__5',\\\n",
    "                   'weekday__6', 'workday__1', 'workday__2', \n",
    "                  ]\n",
    "volume_features2 = ['pressure', 'wind_direction', 'wind_speed', 'temperature', 'rel_humidity', 'precipitation',\\\n",
    "                   'SSD',\\\n",
    "                   'hour__0', 'hour__1', 'hour__2', 'hour__3', 'hour__4',\\\n",
    "                   'hour__5', 'hour__6', 'hour__7', 'hour__8', 'hour__9', 'hour__10',\\\n",
    "                   'hour__11', 'hour__12', 'hour__13', 'hour__14', 'hour__15', 'hour__16',\\\n",
    "                   'hour__17', 'hour__18', 'hour__19', 'hour__20', 'hour__21', 'hour__22',\\\n",
    "                   'hour__23', 'minute__0', 'minute__20', 'minute__40', 'weekday__0',\\\n",
    "                   'weekday__1', 'weekday__2', 'weekday__3', 'weekday__4', 'weekday__5',\\\n",
    "                   'weekday__6', 'workday__1', 'workday__2', \n",
    "                  ]"
   ]
  },
  {
   "cell_type": "code",
   "execution_count": 29,
   "metadata": {
    "collapsed": true
   },
   "outputs": [],
   "source": [
    "A2_train_data = A2_train_data[travel_time_features]\n",
    "A3_train_data = A3_train_data[travel_time_features]\n",
    "B1_train_data = B1_train_data[travel_time_features]\n",
    "B3_train_data = B3_train_data[travel_time_features]\n",
    "C1_train_data = C1_train_data[travel_time_features]\n",
    "C3_train_data = C3_train_data[travel_time_features]\n",
    "\n",
    "A2_test_data = A2_test_data[travel_time_features2]\n",
    "A3_test_data = A3_test_data[travel_time_features2]\n",
    "B1_test_data = B1_test_data[travel_time_features2]\n",
    "B3_test_data = B3_test_data[travel_time_features2]\n",
    "C1_test_data = C1_test_data[travel_time_features2]\n",
    "C3_test_data = C3_test_data[travel_time_features2]"
   ]
  },
  {
   "cell_type": "code",
   "execution_count": 30,
   "metadata": {
    "collapsed": false
   },
   "outputs": [],
   "source": [
    "V10_train_data = V10_train_data[volume_features]\n",
    "V11_train_data = V11_train_data[volume_features]\n",
    "V20_train_data = V20_train_data[volume_features]\n",
    "V30_train_data = V30_train_data[volume_features]\n",
    "V31_train_data = V31_train_data[volume_features]\n",
    "\n",
    "V10_test_data = V10_test_data[volume_features2]\n",
    "V11_test_data = V11_test_data[volume_features2]\n",
    "V20_test_data = V20_test_data[volume_features2]\n",
    "V30_test_data = V30_test_data[volume_features2]\n",
    "V31_test_data = V31_test_data[volume_features2]"
   ]
  },
  {
   "cell_type": "code",
   "execution_count": 39,
   "metadata": {
    "collapsed": false
   },
   "outputs": [
    {
     "data": {
      "text/plain": [
       "Index(['avg_travel_time', 'pressure', 'wind_direction', 'wind_speed',\n",
       "       'temperature', 'rel_humidity', 'precipitation', 'SSD', 'hour__0',\n",
       "       'hour__1', 'hour__2', 'hour__3', 'hour__4', 'hour__5', 'hour__6',\n",
       "       'hour__7', 'hour__8', 'hour__9', 'hour__10', 'hour__11', 'hour__12',\n",
       "       'hour__13', 'hour__14', 'hour__15', 'hour__16', 'hour__17', 'hour__18',\n",
       "       'hour__19', 'hour__20', 'hour__21', 'hour__22', 'hour__23', 'minute__0',\n",
       "       'minute__20', 'minute__40', 'weekday__0', 'weekday__1', 'weekday__2',\n",
       "       'weekday__3', 'weekday__4', 'weekday__5', 'weekday__6', 'workday__1',\n",
       "       'workday__2', 'workday__3'],\n",
       "      dtype='object')"
      ]
     },
     "execution_count": 39,
     "metadata": {},
     "output_type": "execute_result"
    }
   ],
   "source": [
    "B1_train_data.columns"
   ]
  },
  {
   "cell_type": "markdown",
   "metadata": {},
   "source": [
    "### 写出数据"
   ]
  },
  {
   "cell_type": "code",
   "execution_count": 31,
   "metadata": {
    "collapsed": true
   },
   "outputs": [],
   "source": [
    "A2_train_data.to_csv('/home/godcedric/GitLocal/KDDCUP2017/训练数据/分割_非独热_非量化天气/A2_train_data.csv', index=False)\n",
    "A3_train_data.to_csv('/home/godcedric/GitLocal/KDDCUP2017/训练数据/分割_非独热_非量化天气/A3_train_data.csv', index=False)\n",
    "B1_train_data.to_csv('/home/godcedric/GitLocal/KDDCUP2017/训练数据/分割_非独热_非量化天气/B1_train_data.csv', index=False)\n",
    "B3_train_data.to_csv('/home/godcedric/GitLocal/KDDCUP2017/训练数据/分割_非独热_非量化天气/B3_train_data.csv', index=False)\n",
    "C1_train_data.to_csv('/home/godcedric/GitLocal/KDDCUP2017/训练数据/分割_非独热_非量化天气/C1_train_data.csv', index=False)\n",
    "C3_train_data.to_csv('/home/godcedric/GitLocal/KDDCUP2017/训练数据/分割_非独热_非量化天气/C3_train_data.csv', index=False)\n",
    "\n",
    "A2_test_data.to_csv('/home/godcedric/GitLocal/KDDCUP2017/训练数据/分割_非独热_非量化天气/A2_test_data.csv', index=False)\n",
    "A3_test_data.to_csv('/home/godcedric/GitLocal/KDDCUP2017/训练数据/分割_非独热_非量化天气/A3_test_data.csv', index=False)\n",
    "B1_test_data.to_csv('/home/godcedric/GitLocal/KDDCUP2017/训练数据/分割_非独热_非量化天气/B1_test_data.csv', index=False)\n",
    "B3_test_data.to_csv('/home/godcedric/GitLocal/KDDCUP2017/训练数据/分割_非独热_非量化天气/B3_test_data.csv', index=False)\n",
    "C1_test_data.to_csv('/home/godcedric/GitLocal/KDDCUP2017/训练数据/分割_非独热_非量化天气/C1_test_data.csv', index=False)\n",
    "C3_test_data.to_csv('/home/godcedric/GitLocal/KDDCUP2017/训练数据/分割_非独热_非量化天气/C3_test_data.csv', index=False)\n"
   ]
  },
  {
   "cell_type": "code",
   "execution_count": 32,
   "metadata": {
    "collapsed": true
   },
   "outputs": [],
   "source": [
    "V10_train_data.to_csv('/home/godcedric/GitLocal/KDDCUP2017/训练数据/分割_非独热_非量化天气/V10_train_data.csv', index=False)\n",
    "V11_train_data.to_csv('/home/godcedric/GitLocal/KDDCUP2017/训练数据/分割_非独热_非量化天气/V11_train_data.csv', index=False)\n",
    "V20_train_data.to_csv('/home/godcedric/GitLocal/KDDCUP2017/训练数据/分割_非独热_非量化天气/V20_train_data.csv', index=False)\n",
    "V30_train_data.to_csv('/home/godcedric/GitLocal/KDDCUP2017/训练数据/分割_非独热_非量化天气/V30_train_data.csv', index=False)\n",
    "V31_train_data.to_csv('/home/godcedric/GitLocal/KDDCUP2017/训练数据/分割_非独热_非量化天气/V31_train_data.csv', index=False)\n",
    "\n",
    "V10_test_data.to_csv('/home/godcedric/GitLocal/KDDCUP2017/训练数据/分割_非独热_非量化天气/V10_test_data.csv', index=False)\n",
    "V11_test_data.to_csv('/home/godcedric/GitLocal/KDDCUP2017/训练数据/分割_非独热_非量化天气/V11_test_data.csv', index=False)\n",
    "V20_test_data.to_csv('/home/godcedric/GitLocal/KDDCUP2017/训练数据/分割_非独热_非量化天气/V20_test_data.csv', index=False)\n",
    "V30_test_data.to_csv('/home/godcedric/GitLocal/KDDCUP2017/训练数据/分割_非独热_非量化天气/V30_test_data.csv', index=False)\n",
    "V31_test_data.to_csv('/home/godcedric/GitLocal/KDDCUP2017/训练数据/分割_非独热_非量化天气/V31_test_data.csv', index=False)"
   ]
  },
  {
   "cell_type": "code",
   "execution_count": null,
   "metadata": {
    "collapsed": true
   },
   "outputs": [],
   "source": []
  }
 ],
 "metadata": {
  "kernelspec": {
   "display_name": "Python 3",
   "language": "python",
   "name": "python3"
  },
  "language_info": {
   "codemirror_mode": {
    "name": "ipython",
    "version": 3
   },
   "file_extension": ".py",
   "mimetype": "text/x-python",
   "name": "python",
   "nbconvert_exporter": "python",
   "pygments_lexer": "ipython3",
   "version": "3.6.0"
  }
 },
 "nbformat": 4,
 "nbformat_minor": 2
}
