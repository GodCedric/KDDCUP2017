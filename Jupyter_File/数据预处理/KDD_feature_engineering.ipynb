{
 "cells": [
  {
   "cell_type": "markdown",
   "metadata": {
    "collapsed": true
   },
   "source": [
    "# 特征工程"
   ]
  },
  {
   "cell_type": "markdown",
   "metadata": {},
   "source": [
    "2017-05-18"
   ]
  },
  {
   "cell_type": "code",
   "execution_count": 2,
   "metadata": {
    "collapsed": true
   },
   "outputs": [],
   "source": [
    "import numpy as np\n",
    "import pandas as pd\n",
    "from datetime import datetime,timedelta,date,time"
   ]
  },
  {
   "cell_type": "markdown",
   "metadata": {},
   "source": [
    "### 读入数据"
   ]
  },
  {
   "cell_type": "code",
   "execution_count": 3,
   "metadata": {
    "collapsed": false
   },
   "outputs": [],
   "source": [
    "travel_time_infile = '/home/godcedric/GitLocal/KDDCUP2017/final_data/清洗数据/travel_time_clean_data_ffill.csv'\n",
    "volume_infile = '/home/godcedric/GitLocal/KDDCUP2017/final_data/清洗数据/volume_clean_data_ffill.csv'\n",
    "test_travel_time_infile = '/home/godcedric/GitLocal/KDDCUP2017/final_data/提取数据/test_travel_time_feature_ffill.csv'\n",
    "test_volumn_infile = '/home/godcedric/GitLocal/KDDCUP2017/final_data/提取数据/test_volume_feature_ffill.csv'\n",
    "\n",
    "travel_time_data = pd.read_csv(travel_time_infile)\n",
    "volume_data = pd.read_csv(volume_infile)\n",
    "test_travel_time_data = pd.read_csv(test_travel_time_infile)\n",
    "test_volume_data = pd.read_csv(test_volumn_infile)"
   ]
  },
  {
   "cell_type": "code",
   "execution_count": 9,
   "metadata": {
    "collapsed": false
   },
   "outputs": [
    {
     "data": {
      "text/plain": [
       "array([0])"
      ]
     },
     "execution_count": 9,
     "metadata": {},
     "output_type": "execute_result"
    }
   ],
   "source": [
    "travel_time_data['holiday'].unique()"
   ]
  },
  {
   "cell_type": "markdown",
   "metadata": {},
   "source": [
    "### 特征工程 "
   ]
  },
  {
   "cell_type": "code",
   "execution_count": 34,
   "metadata": {
    "collapsed": false
   },
   "outputs": [],
   "source": [
    "#平均时间数据取近一个月的 \n",
    "start_date = date(2016,9,20)\n",
    "travel_time_data['date2'] = pd.to_datetime(travel_time_data['date'], format='%Y-%m-%d')\n",
    "travel_time_data = travel_time_data[travel_time_data['date2'] >= start_date]\n",
    "del travel_time_data['date2']\n",
    "\n",
    "#流量数据取10月7号之后的\n",
    "start_date = date(2016,10,8)\n",
    "volume_data['date2'] = pd.to_datetime(volume_data['date'], format='%Y-%m-%d')\n",
    "volume_data = volume_data[volume_data['date2'] >= start_date]\n",
    "del volume_data['date2']"
   ]
  },
  {
   "cell_type": "code",
   "execution_count": 35,
   "metadata": {
    "collapsed": false
   },
   "outputs": [],
   "source": [
    "# 删除一些列\n",
    "#del travel_time_data['time_window']\n",
    "#del travel_time_data['start_time']\n",
    "del travel_time_data['sea_pressure']\n",
    "#del travel_time_data['date']\n",
    "#del travel_time_data['time']\n",
    "del travel_time_data['holiday']\n",
    "#del volume_data['time_window']\n",
    "del volume_data['etc']\n",
    "#del volume_data['start_time']\n",
    "#del volume_data['date']\n",
    "#del volume_data['hour']\n",
    "del volume_data['sea_pressure']\n",
    "#del volume_data['time']\n",
    "#del test_travel_time_data['time_window']\n",
    "#del test_travel_time_data['start_time']\n",
    "del test_travel_time_data['sea_pressure']\n",
    "#del test_travel_time_data['date']\n",
    "#del test_travel_time_data['time']\n",
    "#del test_volume_data['time_window']\n",
    "#del test_volume_data['start_time']\n",
    "#del test_volume_data['date']\n",
    "del test_volume_data['sea_pressure']\n",
    "#del test_volume_data['time']"
   ]
  },
  {
   "cell_type": "code",
   "execution_count": 36,
   "metadata": {
    "collapsed": true
   },
   "outputs": [],
   "source": [
    "# 列排序\n",
    "time_columns = ['avg_travel_time', 'route', 'intersection_id', 'tollgate_id', 'time_window', 'start_time', 'date', 'time', 'hour', 'minute', 'weekday', 'timemap', 'pressure', 'wind_direction', 'wind_speed', 'temperature', 'rel_humidity', 'precipitation', 'last_20min', 'last_40min', 'last_60min', 'last_80min', 'last_100min', 'last_120min']\n",
    "time_columns2 = ['route', 'intersection_id', 'tollgate_id', 'time_window', 'start_time', 'date', 'time', 'hour', 'minute', 'weekday', 'timemap', 'pressure', 'wind_direction', 'wind_speed', 'temperature', 'rel_humidity', 'precipitation', 'last_20min', 'last_40min', 'last_60min', 'last_80min', 'last_100min', 'last_120min']\n",
    "volume_columns = ['volume', 'pair', 'tollgate_id', 'direction', 'time_window', 'start_time', 'date', 'time', 'hour', 'minute', 'weekday', 'timemap', 'pressure', 'wind_direction', 'wind_speed', 'temperature', 'rel_humidity', 'precipitation', 'last_20min', 'last_40min', 'last_60min', 'last_80min', 'last_100min', 'last_120min']\n",
    "volume_columns2 = ['pair', 'tollgate_id', 'direction', 'time_window', 'start_time', 'date', 'time', 'hour', 'minute', 'weekday', 'timemap', 'pressure', 'wind_direction', 'wind_speed', 'temperature', 'rel_humidity', 'precipitation', 'last_20min', 'last_40min', 'last_60min', 'last_80min', 'last_100min', 'last_120min']\n",
    "travel_time_data = pd.DataFrame(travel_time_data, columns=time_columns)\n",
    "volume_data = pd.DataFrame(volume_data, columns=volume_columns)\n",
    "test_travel_time_data = pd.DataFrame(test_travel_time_data, columns=time_columns2)\n",
    "test_volume_data = pd.DataFrame(test_volume_data, columns=volume_columns2)"
   ]
  },
  {
   "cell_type": "code",
   "execution_count": 37,
   "metadata": {
    "collapsed": false
   },
   "outputs": [
    {
     "name": "stdout",
     "output_type": "stream",
     "text": [
      "(8718, 24)\n",
      "(504, 23)\n",
      "(3501, 24)\n",
      "(420, 23)\n"
     ]
    }
   ],
   "source": [
    "print(travel_time_data.shape)\n",
    "print(test_travel_time_data.shape)\n",
    "print(volume_data.shape)\n",
    "print(test_volume_data.shape)"
   ]
  },
  {
   "cell_type": "code",
   "execution_count": 16,
   "metadata": {
    "collapsed": true
   },
   "outputs": [],
   "source": [
    "# 风向（映射成东北风，东南风，西南风，西北风）\n",
    "def wind_direction_map(x):\n",
    "    if 22.5 < x <= 67.5:\n",
    "        return 1\n",
    "    elif 67.5 < x <= 112.5:\n",
    "        return 2\n",
    "    elif 112.5 < x <= 157.5:\n",
    "        return 3\n",
    "    elif 157.5 < x <= 202.5:\n",
    "        return 4\n",
    "    elif 202.5 < x <= 247.5:\n",
    "        return 5\n",
    "    elif 247.5 < x <= 292.5:\n",
    "        return 6\n",
    "    elif 292.5 < x <= 337.5:\n",
    "        return 7\n",
    "    else:\n",
    "        return 8\n",
    "travel_time_data['wind_direction2'] = travel_time_data['wind_direction'].map(wind_direction_map)\n",
    "volume_data['wind_direction2'] = volume_data['wind_direction'].map(wind_direction_map)\n",
    "test_travel_time_data['wind_direction2'] = test_travel_time_data['wind_direction'].map(wind_direction_map)\n",
    "test_volume_data['wind_direction2'] = test_volume_data['wind_direction'].map(wind_direction_map)"
   ]
  },
  {
   "cell_type": "code",
   "execution_count": 17,
   "metadata": {
    "collapsed": false
   },
   "outputs": [],
   "source": [
    "# 风力，映射为几级风\n",
    "def wind_speed_map(x):\n",
    "    if x==0:\n",
    "        return 0\n",
    "    elif 0<x<=0.3:\n",
    "        return 0\n",
    "    elif 0.3<x<=1.6:\n",
    "        return 1\n",
    "    elif 1.6<x<=3.4:\n",
    "        return 2\n",
    "    elif 3.4<x<=5.5:\n",
    "        return 3\n",
    "    elif 5.5<x<=8.0:\n",
    "        return 4\n",
    "    elif 8.0<x<=10.8:\n",
    "        return 5\n",
    "    elif 10.8<x<=13.9:\n",
    "        return 6\n",
    "    elif 13.9<x<=17.2:\n",
    "        return 7\n",
    "    elif 17.2<x<=20.8:\n",
    "        return 8\n",
    "    else:\n",
    "        return 9\n",
    "travel_time_data['wind_speed2'] = travel_time_data['wind_speed'].map(wind_speed_map)\n",
    "volume_data['wind_speed2'] = volume_data['wind_speed'].map(wind_speed_map)\n",
    "test_travel_time_data['wind_speed2'] = test_travel_time_data['wind_speed'].map(wind_speed_map)\n",
    "test_volume_data['wind_speed2'] = test_volume_data['wind_speed'].map(wind_speed_map)"
   ]
  },
  {
   "cell_type": "code",
   "execution_count": 18,
   "metadata": {
    "collapsed": false
   },
   "outputs": [
    {
     "data": {
      "text/plain": [
       "count    420.000000\n",
       "mean       1.714286\n",
       "std        0.700689\n",
       "min        1.000000\n",
       "25%        1.000000\n",
       "50%        2.000000\n",
       "75%        2.000000\n",
       "max        4.000000\n",
       "Name: wind_speed2, dtype: float64"
      ]
     },
     "execution_count": 18,
     "metadata": {},
     "output_type": "execute_result"
    }
   ],
   "source": [
    "test_volume_data['wind_speed2'].describe()"
   ]
  },
  {
   "cell_type": "code",
   "execution_count": 19,
   "metadata": {
    "collapsed": false
   },
   "outputs": [],
   "source": [
    "# 雨量等级\n",
    "def precipitation_map(x):\n",
    "    if x==0:\n",
    "        return 0\n",
    "    if 0<x<=10:\n",
    "        return 1   #小雨 \n",
    "    elif 10<x<=25:\n",
    "        return 2   #中雨\n",
    "    elif 25<x<=50:\n",
    "        return 3   #大雨\n",
    "    elif 50<x<=100:\n",
    "        return 4   #暴雨\n",
    "    else:\n",
    "        return 5\n",
    "travel_time_data['precipitation2'] = travel_time_data['precipitation'].map(precipitation_map)\n",
    "volume_data['precipitation2'] = volume_data['precipitation'].map(precipitation_map)\n",
    "test_travel_time_data['precipitation2'] = test_travel_time_data['precipitation'].map(precipitation_map)\n",
    "test_volume_data['precipitation2'] = test_volume_data['precipitation'].map(precipitation_map)"
   ]
  },
  {
   "cell_type": "code",
   "execution_count": 20,
   "metadata": {
    "collapsed": false
   },
   "outputs": [
    {
     "data": {
      "text/plain": [
       "count    420.000000\n",
       "mean       0.464286\n",
       "std        0.499318\n",
       "min        0.000000\n",
       "25%        0.000000\n",
       "50%        0.000000\n",
       "75%        1.000000\n",
       "max        1.000000\n",
       "Name: precipitation2, dtype: float64"
      ]
     },
     "execution_count": 20,
     "metadata": {},
     "output_type": "execute_result"
    }
   ],
   "source": [
    "test_volume_data['precipitation2'].describe()"
   ]
  },
  {
   "cell_type": "code",
   "execution_count": 21,
   "metadata": {
    "collapsed": false
   },
   "outputs": [],
   "source": [
    "# 增加人体舒适指数\n",
    "travel_time_data['SSD'] = (1.818*travel_time_data['temperature'] + 18.18)*(0.88 + 0.002*travel_time_data['rel_humidity']) + (travel_time_data['temperature'] - 32)/(45 - travel_time_data['temperature']) - 3.2*travel_time_data['wind_speed'] + 18.2\n",
    "volume_data['SSD'] = (1.818*volume_data['temperature'] + 18.18)*(0.88 + 0.002*volume_data['rel_humidity']) + (volume_data['temperature'] - 32)/(45 - volume_data['temperature']) - 3.2*volume_data['wind_speed'] + 18.2\n",
    "test_travel_time_data['SSD'] = (1.818*test_travel_time_data['temperature'] + 18.18)*(0.88 + 0.002*test_travel_time_data['rel_humidity']) + (test_travel_time_data['temperature'] - 32)/(45 - test_travel_time_data['temperature']) - 3.2*test_travel_time_data['wind_speed'] + 18.2\n",
    "test_volume_data['SSD'] = (1.818*test_volume_data['temperature'] + 18.18)*(0.88 + 0.002*test_volume_data['rel_humidity']) + (test_volume_data['temperature'] - 32)/(45 - test_volume_data['temperature']) - 3.2*test_volume_data['wind_speed'] + 18.2"
   ]
  },
  {
   "cell_type": "code",
   "execution_count": 22,
   "metadata": {
    "collapsed": false
   },
   "outputs": [
    {
     "data": {
      "text/plain": [
       "count    504.000000\n",
       "mean      71.412319\n",
       "std        4.200135\n",
       "min       58.451198\n",
       "25%       69.879728\n",
       "50%       71.733219\n",
       "75%       74.035601\n",
       "max       78.141965\n",
       "Name: SSD, dtype: float64"
      ]
     },
     "execution_count": 22,
     "metadata": {},
     "output_type": "execute_result"
    }
   ],
   "source": [
    "test_travel_time_data['SSD'].describe()"
   ]
  },
  {
   "cell_type": "code",
   "execution_count": 23,
   "metadata": {
    "collapsed": false
   },
   "outputs": [],
   "source": [
    "def SSD_map(x):\n",
    "    if x>86:\n",
    "        return 4   #很热\n",
    "    if 80<x<=86:\n",
    "        return 3   #炎热    \n",
    "    elif 76<x<=80:\n",
    "        return 2   #便热\n",
    "    elif 71<x<=76:\n",
    "        return 1   #偏暖\n",
    "    elif 59<x<=71:\n",
    "        return 0   #舒适\n",
    "    elif 51<x<=59:\n",
    "        return -1   #微凉\n",
    "    elif 39<x<=51:\n",
    "        return -2   #清凉\n",
    "    elif 26<x<=39:\n",
    "        return -3   #很冷\n",
    "    else:\n",
    "        return -4   #寒冷\n",
    "travel_time_data['SSD_level'] = travel_time_data['SSD'].map(SSD_map)\n",
    "volume_data['SSD_level'] = volume_data['SSD'].map(SSD_map)\n",
    "test_travel_time_data['SSD_level'] = test_travel_time_data['SSD'].map(SSD_map)\n",
    "test_volume_data['SSD_level'] = test_volume_data['SSD'].map(SSD_map)"
   ]
  },
  {
   "cell_type": "code",
   "execution_count": 24,
   "metadata": {
    "collapsed": false
   },
   "outputs": [
    {
     "data": {
      "text/plain": [
       "count    420.000000\n",
       "mean       0.678571\n",
       "std        0.710654\n",
       "min       -1.000000\n",
       "25%        0.000000\n",
       "50%        1.000000\n",
       "75%        1.000000\n",
       "max        2.000000\n",
       "Name: SSD_level, dtype: float64"
      ]
     },
     "execution_count": 24,
     "metadata": {},
     "output_type": "execute_result"
    }
   ],
   "source": [
    "test_volume_data['SSD_level'].describe()"
   ]
  },
  {
   "cell_type": "code",
   "execution_count": 25,
   "metadata": {
    "collapsed": false
   },
   "outputs": [],
   "source": [
    "# 星期几映射成workday（工作日为1，周末为2，节假日为3）\n",
    "holiday = ['2016-09-15', '2016-09-16', '2016-09-17', '2016-10-01', '2016-10-02', '2016-10-03', '2016-10-04',\n",
    "            '2016-10-05', '2016-10-06', '2016-10-07']\n",
    "def ff(x):\n",
    "    if x in holiday:\n",
    "        return 3\n",
    "    else:\n",
    "        format_time = datetime.strptime(x, '%Y-%m-%d')\n",
    "        weekday = format_time.weekday()\n",
    "        if(weekday==5 or weekday==6):\n",
    "            return 2\n",
    "        else:\n",
    "            return 1\n",
    "travel_time_data['is_workday'] = travel_time_data['date'].map(ff)\n",
    "volume_data['is_workday'] = volume_data['date'].map(ff)\n",
    "test_travel_time_data['is_workday'] = test_travel_time_data['date'].map(ff)\n",
    "test_volume_data['is_workday'] = test_volume_data['date'].map(ff)"
   ]
  },
  {
   "cell_type": "code",
   "execution_count": 26,
   "metadata": {
    "collapsed": false
   },
   "outputs": [],
   "source": [
    "# pressure取整\n",
    "travel_time_data['pressure'] = travel_time_data['pressure'].map(lambda x: round(x))\n",
    "volume_data['pressure'] = volume_data['pressure'].map(lambda x: round(x))\n",
    "test_travel_time_data['pressure'] = test_travel_time_data['pressure'].map(lambda x: round(x))\n",
    "test_volume_data['pressure'] = test_volume_data['pressure'].map(lambda x: round(x))"
   ]
  },
  {
   "cell_type": "code",
   "execution_count": 27,
   "metadata": {
    "collapsed": true
   },
   "outputs": [],
   "source": [
    "# 增加datemap特征\n",
    "travel_time_data['datetemp'] = travel_time_data['date'].map(lambda x: datetime.strptime(x, '%Y-%m-%d'))\n",
    "volume_data['datetemp'] = volume_data['date'].map(lambda x: datetime.strptime(x, '%Y-%m-%d'))\n",
    "test_travel_time_data['datetemp'] = test_travel_time_data['date'].map(lambda x: datetime.strptime(x, '%Y-%m-%d'))\n",
    "test_volume_data['datetemp'] = test_volume_data['date'].map(lambda x: datetime.strptime(x, '%Y-%m-%d'))\n",
    "\n",
    "start_time1 = datetime(2016,7,18,0,0,0)\n",
    "start_time2 = datetime(2016,9,18,0,0,0)\n",
    "start_time3 = datetime(2016,10,17,0,0,0)\n",
    "travel_time_data['datemap'] = travel_time_data['datetemp'].map(lambda x: int((x-start_time1).days))\n",
    "volume_data['datemap'] = volume_data['datetemp'].map(lambda x: int((x-start_time2).days))\n",
    "test_travel_time_data['datemap'] = test_travel_time_data['datetemp'].map(lambda x: int((x-start_time3).days))\n",
    "test_volume_data['datemap'] = test_travel_time_data['datetemp'].map(lambda x: int((x-start_time3).days))\n",
    "del travel_time_data['datetemp']\n",
    "del volume_data['datetemp']\n",
    "del test_travel_time_data['datetemp']\n",
    "del test_volume_data['datetemp']"
   ]
  },
  {
   "cell_type": "code",
   "execution_count": 28,
   "metadata": {
    "collapsed": false
   },
   "outputs": [],
   "source": [
    "# 增加路径信息\n",
    "road = pd.read_csv('road.csv')\n",
    "travel_time_data = pd.merge(travel_time_data, road, on=['intersection_id','tollgate_id'], how='left')\n",
    "test_travel_time_data = pd.merge(test_travel_time_data, road, on=['intersection_id','tollgate_id'], how='left')"
   ]
  },
  {
   "cell_type": "code",
   "execution_count": 29,
   "metadata": {
    "collapsed": false
   },
   "outputs": [],
   "source": [
    "# 离散特征独热编码\n",
    "# 平均时间\n",
    "route1 = travel_time_data.route\n",
    "route2 = test_travel_time_data.route\n",
    "route_all = pd.concat([route1, route2], axis=0)\n",
    "route_onehot = pd.get_dummies(route_all)\n",
    "travel_time_data = pd.concat([travel_time_data, route_onehot[:len(route1)]], axis=1)\n",
    "test_travel_time_data = pd.concat([test_travel_time_data, route_onehot[len(route1):]], axis=1)\n",
    "\n",
    "hour1 = travel_time_data.hour\n",
    "hour2 = test_travel_time_data.hour\n",
    "hour_all = pd.concat([hour1, hour2], axis=0)\n",
    "hour_onehot = pd.get_dummies(hour_all, prefix='hour_')\n",
    "travel_time_data = pd.concat([travel_time_data, hour_onehot[:len(hour1)]], axis=1)\n",
    "test_travel_time_data = pd.concat([test_travel_time_data, hour_onehot[len(hour1):]], axis=1)\n",
    "\n",
    "minute1 = travel_time_data.minute\n",
    "minute2 = test_travel_time_data.minute\n",
    "minute_all = pd.concat([minute1, minute2], axis=0)\n",
    "minute_onehot = pd.get_dummies(minute_all, prefix='minute_')\n",
    "travel_time_data = pd.concat([travel_time_data, minute_onehot[:len(minute1)]], axis=1)\n",
    "test_travel_time_data = pd.concat([test_travel_time_data, minute_onehot[len(minute1):]], axis=1)\n",
    "\n",
    "weekday1 = travel_time_data.weekday\n",
    "weekday2 = test_travel_time_data.weekday\n",
    "weekday_all = pd.concat([weekday1, weekday2], axis=0)\n",
    "weekday_onehot = pd.get_dummies(weekday_all, prefix='weekday_')\n",
    "travel_time_data = pd.concat([travel_time_data, weekday_onehot[:len(weekday1)]], axis=1)\n",
    "test_travel_time_data = pd.concat([test_travel_time_data, weekday_onehot[len(weekday1):]], axis=1)\n",
    "\n",
    "workday1 = travel_time_data.is_workday\n",
    "workday2 = test_travel_time_data.is_workday\n",
    "workday_all = pd.concat([workday1, workday2], axis=0)\n",
    "workday_onehot = pd.get_dummies(workday_all, prefix='workday_')\n",
    "travel_time_data = pd.concat([travel_time_data, workday_onehot[:len(workday1)]], axis=1)\n",
    "test_travel_time_data = pd.concat([test_travel_time_data, workday_onehot[len(workday1):]], axis=1)"
   ]
  },
  {
   "cell_type": "code",
   "execution_count": 30,
   "metadata": {
    "collapsed": true
   },
   "outputs": [],
   "source": [
    "# 流量\n",
    "pair1 = volume_data.pair\n",
    "pair2 = test_volume_data.pair\n",
    "pair_all = pd.concat([pair1, pair2], axis=0)\n",
    "pair_onehot = pd.get_dummies(pair_all)\n",
    "volume_data = pd.concat([volume_data, pair_onehot[:len(pair1)]], axis=1)\n",
    "test_volume_data = pd.concat([test_volume_data, pair_onehot[len(pair1):]], axis=1)\n",
    "\n",
    "hour1 = volume_data.hour\n",
    "hour2 = test_volume_data.hour\n",
    "hour_all = pd.concat([hour1, hour2], axis=0)\n",
    "hour_onehot = pd.get_dummies(hour_all, prefix='hour_')\n",
    "volume_data = pd.concat([volume_data, hour_onehot[:len(hour1)]], axis=1)\n",
    "test_volume_data = pd.concat([test_volume_data, hour_onehot[len(hour1):]], axis=1)\n",
    "\n",
    "minute1 = volume_data.minute\n",
    "minute2 = test_volume_data.minute\n",
    "minute_all = pd.concat([minute1, minute2], axis=0)\n",
    "minute_onehot = pd.get_dummies(minute_all, prefix='minute_')\n",
    "volume_data = pd.concat([volume_data, minute_onehot[:len(minute1)]], axis=1)\n",
    "test_volume_data = pd.concat([test_volume_data, minute_onehot[len(minute1):]], axis=1)\n",
    "\n",
    "weekday1 = volume_data.weekday\n",
    "weekday2 = test_volume_data.weekday\n",
    "weekday_all = pd.concat([weekday1, weekday2], axis=0)\n",
    "weekday_onehot = pd.get_dummies(weekday_all, prefix='weekday_')\n",
    "volume_data = pd.concat([volume_data, weekday_onehot[:len(weekday1)]], axis=1)\n",
    "test_volume_data = pd.concat([test_volume_data, weekday_onehot[len(weekday1):]], axis=1)\n",
    "\n",
    "workday1 = volume_data.is_workday\n",
    "workday2 = test_volume_data.is_workday\n",
    "workday_all = pd.concat([workday1, workday2], axis=0)\n",
    "workday_onehot = pd.get_dummies(workday_all, prefix='workday_')\n",
    "volume_data = pd.concat([volume_data, workday_onehot[:len(workday1)]], axis=1)\n",
    "test_volume_data = pd.concat([test_volume_data, workday_onehot[len(workday1):]], axis=1)"
   ]
  },
  {
   "cell_type": "code",
   "execution_count": 32,
   "metadata": {
    "collapsed": false
   },
   "outputs": [
    {
     "data": {
      "text/plain": [
       "array(['pair', 'tollgate_id', 'direction', 'time_window', 'start_time',\n",
       "       'date', 'time', 'hour', 'minute', 'weekday', 'timemap', 'pressure',\n",
       "       'wind_direction', 'wind_speed', 'temperature', 'rel_humidity',\n",
       "       'precipitation', 'last_20min', 'last_40min', 'last_60min',\n",
       "       'last_80min', 'last_100min', 'last_120min', 'wind_direction2',\n",
       "       'wind_speed2', 'precipitation2', 'SSD', 'SSD_level', 'is_workday',\n",
       "       'datemap', '1-0', '1-1', '2-0', '3-0', '3-1', 'hour__0', 'hour__1',\n",
       "       'hour__2', 'hour__3', 'hour__4', 'hour__5', 'hour__6', 'hour__7',\n",
       "       'hour__8', 'hour__9', 'hour__10', 'hour__11', 'hour__12',\n",
       "       'hour__13', 'hour__14', 'hour__15', 'hour__16', 'hour__17',\n",
       "       'hour__18', 'hour__19', 'hour__20', 'hour__21', 'hour__22',\n",
       "       'hour__23', 'minute__0', 'minute__20', 'minute__40', 'weekday__0',\n",
       "       'weekday__1', 'weekday__2', 'weekday__3', 'weekday__4',\n",
       "       'weekday__5', 'weekday__6', 'workday__1', 'workday__2', 'workday__3'], dtype=object)"
      ]
     },
     "execution_count": 32,
     "metadata": {},
     "output_type": "execute_result"
    }
   ],
   "source": [
    "test_volume_data.columns.values"
   ]
  },
  {
   "cell_type": "code",
   "execution_count": 49,
   "metadata": {
    "collapsed": false
   },
   "outputs": [
    {
     "name": "stdout",
     "output_type": "stream",
     "text": [
      "(23860, 86)\n",
      "(504, 85)\n",
      "(10063, 73)\n",
      "(420, 72)\n"
     ]
    }
   ],
   "source": [
    "print(travel_time_data.shape)\n",
    "print(test_travel_time_data.shape)\n",
    "print(volume_data.shape)\n",
    "print(test_volume_data.shape)"
   ]
  },
  {
   "cell_type": "code",
   "execution_count": 16,
   "metadata": {
    "collapsed": true
   },
   "outputs": [],
   "source": [
    "# 写出数据\n",
    "travel_time_data.to_csv('/home/godcedric/GitLocal/KDDCUP2017/加工过的数据集/2.0/以最近值填充的/travel_time_train_data.csv', index=False)\n",
    "volume_data.to_csv('/home/godcedric/GitLocal/KDDCUP2017/加工过的数据集/2.0/以最近值填充的/volume_train_data.csv', index=False)\n",
    "test_travel_time_data.to_csv('/home/godcedric/GitLocal/KDDCUP2017/加工过的数据集/2.0/以最近值填充的/test_travel_time_data.csv', index=False)\n",
    "test_volume_data.to_csv('/home/godcedric/GitLocal/KDDCUP2017/加工过的数据集/2.0/以最近值填充的/test_volume_data.csv', index=False)"
   ]
  },
  {
   "cell_type": "code",
   "execution_count": null,
   "metadata": {
    "collapsed": true
   },
   "outputs": [],
   "source": []
  }
 ],
 "metadata": {
  "kernelspec": {
   "display_name": "Python 3",
   "language": "python",
   "name": "python3"
  },
  "language_info": {
   "codemirror_mode": {
    "name": "ipython",
    "version": 3
   },
   "file_extension": ".py",
   "mimetype": "text/x-python",
   "name": "python",
   "nbconvert_exporter": "python",
   "pygments_lexer": "ipython3",
   "version": "3.6.0"
  }
 },
 "nbformat": 4,
 "nbformat_minor": 2
}
