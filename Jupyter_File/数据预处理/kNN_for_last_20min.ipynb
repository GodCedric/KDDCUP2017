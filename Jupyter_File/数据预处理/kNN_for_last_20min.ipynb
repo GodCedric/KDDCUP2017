{
 "cells": [
  {
   "cell_type": "markdown",
   "metadata": {},
   "source": [
    "# kNN for last_20min"
   ]
  },
  {
   "cell_type": "markdown",
   "metadata": {},
   "source": [
    "2017-05-24"
   ]
  },
  {
   "cell_type": "code",
   "execution_count": 2,
   "metadata": {
    "collapsed": true
   },
   "outputs": [],
   "source": [
    "import numpy as np\n",
    "import pandas as pd\n",
    "from datetime import datetime,timedelta,date,time\n",
    "import sklearn.neighbors\n",
    "from sklearn import preprocessing"
   ]
  },
  {
   "cell_type": "markdown",
   "metadata": {},
   "source": [
    "### 录入数据"
   ]
  },
  {
   "cell_type": "code",
   "execution_count": 3,
   "metadata": {
    "collapsed": true
   },
   "outputs": [],
   "source": [
    "# 平均时间\n",
    "A2_train_data = pd.read_csv('/home/godcedric/GitLocal/KDDCUP2017/训练数据/分割_独热_非量化天气/A2_train_data.csv')\n",
    "A3_train_data = pd.read_csv('/home/godcedric/GitLocal/KDDCUP2017/训练数据/分割_独热_非量化天气/A3_train_data.csv')\n",
    "B1_train_data = pd.read_csv('/home/godcedric/GitLocal/KDDCUP2017/训练数据/分割_独热_非量化天气/B1_train_data.csv')\n",
    "B3_train_data = pd.read_csv('/home/godcedric/GitLocal/KDDCUP2017/训练数据/分割_独热_非量化天气/B3_train_data.csv')\n",
    "C1_train_data = pd.read_csv('/home/godcedric/GitLocal/KDDCUP2017/训练数据/分割_独热_非量化天气/C1_train_data.csv')\n",
    "C3_train_data = pd.read_csv('/home/godcedric/GitLocal/KDDCUP2017/训练数据/分割_独热_非量化天气/C3_train_data.csv')\n",
    "\n",
    "A2_test_data = pd.read_csv('/home/godcedric/GitLocal/KDDCUP2017/训练数据/分割_独热_非量化天气/A2_test_data.csv')\n",
    "A3_test_data = pd.read_csv('/home/godcedric/GitLocal/KDDCUP2017/训练数据/分割_独热_非量化天气/A3_test_data.csv')\n",
    "B1_test_data = pd.read_csv('/home/godcedric/GitLocal/KDDCUP2017/训练数据/分割_独热_非量化天气/B1_test_data.csv')\n",
    "B3_test_data = pd.read_csv('/home/godcedric/GitLocal/KDDCUP2017/训练数据/分割_独热_非量化天气/B3_test_data.csv')\n",
    "C1_test_data = pd.read_csv('/home/godcedric/GitLocal/KDDCUP2017/训练数据/分割_独热_非量化天气/C1_test_data.csv')\n",
    "C3_test_data = pd.read_csv('/home/godcedric/GitLocal/KDDCUP2017/训练数据/分割_独热_非量化天气/C3_test_data.csv')\n",
    "\n",
    "# 流量\n",
    "V10_train_data = pd.read_csv('/home/godcedric/GitLocal/KDDCUP2017/训练数据/分割_独热_非量化天气/V10_train_data.csv')\n",
    "V11_train_data = pd.read_csv('/home/godcedric/GitLocal/KDDCUP2017/训练数据/分割_独热_非量化天气/V11_train_data.csv')\n",
    "V20_train_data = pd.read_csv('/home/godcedric/GitLocal/KDDCUP2017/训练数据/分割_独热_非量化天气/V20_train_data.csv')\n",
    "V30_train_data = pd.read_csv('/home/godcedric/GitLocal/KDDCUP2017/训练数据/分割_独热_非量化天气/V30_train_data.csv')\n",
    "V31_train_data = pd.read_csv('/home/godcedric/GitLocal/KDDCUP2017/训练数据/分割_独热_非量化天气/V31_train_data.csv')\n",
    "\n",
    "V10_test_data = pd.read_csv('/home/godcedric/GitLocal/KDDCUP2017/训练数据/分割_独热_非量化天气/V10_test_data.csv')\n",
    "V11_test_data = pd.read_csv('/home/godcedric/GitLocal/KDDCUP2017/训练数据/分割_独热_非量化天气/V11_test_data.csv')\n",
    "V20_test_data = pd.read_csv('/home/godcedric/GitLocal/KDDCUP2017/训练数据/分割_独热_非量化天气/V20_test_data.csv')\n",
    "V30_test_data = pd.read_csv('/home/godcedric/GitLocal/KDDCUP2017/训练数据/分割_独热_非量化天气/V30_test_data.csv')\n",
    "V31_test_data = pd.read_csv('/home/godcedric/GitLocal/KDDCUP2017/训练数据/分割_独热_非量化天气/V31_test_data.csv')"
   ]
  },
  {
   "cell_type": "code",
   "execution_count": 3,
   "metadata": {
    "collapsed": false
   },
   "outputs": [
    {
     "data": {
      "text/plain": [
       "Index(['avg_travel_time', 'pressure', 'wind_direction', 'wind_speed',\n",
       "       'temperature', 'rel_humidity', 'precipitation', 'SSD', 'hour__0',\n",
       "       'hour__1', 'hour__2', 'hour__3', 'hour__4', 'hour__5', 'hour__6',\n",
       "       'hour__7', 'hour__8', 'hour__9', 'hour__10', 'hour__11', 'hour__12',\n",
       "       'hour__13', 'hour__14', 'hour__15', 'hour__16', 'hour__17', 'hour__18',\n",
       "       'hour__19', 'hour__20', 'hour__21', 'hour__22', 'hour__23', 'minute__0',\n",
       "       'minute__20', 'minute__40', 'weekday__0', 'weekday__1', 'weekday__2',\n",
       "       'weekday__3', 'weekday__4', 'weekday__5', 'weekday__6', 'workday__1',\n",
       "       'workday__2'],\n",
       "      dtype='object')"
      ]
     },
     "execution_count": 3,
     "metadata": {},
     "output_type": "execute_result"
    }
   ],
   "source": [
    "A3_train_data.columns"
   ]
  },
  {
   "cell_type": "markdown",
   "metadata": {},
   "source": [
    "### 分离特征与标签"
   ]
  },
  {
   "cell_type": "code",
   "execution_count": 4,
   "metadata": {
    "collapsed": true
   },
   "outputs": [],
   "source": [
    "A2_label = A2_train_data.avg_travel_time\n",
    "A2_train_data = A2_train_data.drop(['avg_travel_time'], axis=1)\n",
    "\n",
    "A3_label = A3_train_data.avg_travel_time\n",
    "A3_train_data = A3_train_data.drop(['avg_travel_time'], axis=1)\n",
    "\n",
    "B1_label = B1_train_data.avg_travel_time\n",
    "B1_train_data = B1_train_data.drop(['avg_travel_time'], axis=1)\n",
    "\n",
    "B3_label = B3_train_data.avg_travel_time\n",
    "B3_train_data = B3_train_data.drop(['avg_travel_time'], axis=1)\n",
    "\n",
    "C1_label = C1_train_data.avg_travel_time\n",
    "C1_train_data = C1_train_data.drop(['avg_travel_time'], axis=1)\n",
    "\n",
    "C3_label = C3_train_data.avg_travel_time\n",
    "C3_train_data = C3_train_data.drop(['avg_travel_time'], axis=1)"
   ]
  },
  {
   "cell_type": "code",
   "execution_count": 5,
   "metadata": {
    "collapsed": true
   },
   "outputs": [],
   "source": [
    "V10_label = V10_train_data.volume\n",
    "V10_train_data = V10_train_data.drop(['volume'], axis=1)\n",
    "\n",
    "V11_label = V11_train_data.volume\n",
    "V11_train_data = V11_train_data.drop(['volume'], axis=1)\n",
    "\n",
    "V20_label = V20_train_data.volume\n",
    "V20_train_data = V20_train_data.drop(['volume'], axis=1)\n",
    "\n",
    "V30_label = V30_train_data.volume\n",
    "V30_train_data = V30_train_data.drop(['volume'], axis=1)\n",
    "\n",
    "V31_label = V31_train_data.volume\n",
    "V31_train_data = V31_train_data.drop(['volume'], axis=1)"
   ]
  },
  {
   "cell_type": "markdown",
   "metadata": {},
   "source": [
    "### 数据归一化"
   ]
  },
  {
   "cell_type": "code",
   "execution_count": 6,
   "metadata": {
    "collapsed": true
   },
   "outputs": [],
   "source": [
    "min_max_scaler = preprocessing.MinMaxScaler()\n",
    "time_columns = A2_train_data.columns\n",
    "volume_columns = V10_train_data.columns"
   ]
  },
  {
   "cell_type": "code",
   "execution_count": 7,
   "metadata": {
    "collapsed": true
   },
   "outputs": [],
   "source": [
    "# 归一化\n",
    "temp = min_max_scaler.fit_transform(A2_train_data)\n",
    "A2_train_data = pd.DataFrame(temp, columns=time_columns)\n",
    "temp = min_max_scaler.transform(A2_test_data)\n",
    "A2_test_data = pd.DataFrame(temp, columns=time_columns)\n",
    "\n",
    "temp = min_max_scaler.fit_transform(A3_train_data)\n",
    "A3_train_data = pd.DataFrame(temp, columns=time_columns)\n",
    "temp = min_max_scaler.transform(A3_test_data)\n",
    "A3_test_data = pd.DataFrame(temp, columns=time_columns)\n",
    "\n",
    "temp = min_max_scaler.fit_transform(B1_train_data)\n",
    "B1_train_data = pd.DataFrame(temp, columns=time_columns)\n",
    "temp = min_max_scaler.transform(B1_test_data)\n",
    "B1_test_data = pd.DataFrame(temp, columns=time_columns)\n",
    "\n",
    "temp = min_max_scaler.fit_transform(B3_train_data)\n",
    "B3_train_data = pd.DataFrame(temp, columns=time_columns)\n",
    "temp = min_max_scaler.transform(B3_test_data)\n",
    "B3_test_data = pd.DataFrame(temp, columns=time_columns)\n",
    "\n",
    "temp = min_max_scaler.fit_transform(C1_train_data)\n",
    "C1_train_data = pd.DataFrame(temp, columns=time_columns)\n",
    "temp = min_max_scaler.transform(C1_test_data)\n",
    "C1_test_data = pd.DataFrame(temp, columns=time_columns)\n",
    "\n",
    "temp = min_max_scaler.fit_transform(C3_train_data)\n",
    "C3_train_data = pd.DataFrame(temp, columns=time_columns)\n",
    "temp = min_max_scaler.transform(C3_test_data)\n",
    "C3_test_data = pd.DataFrame(temp, columns=time_columns)"
   ]
  },
  {
   "cell_type": "code",
   "execution_count": 8,
   "metadata": {
    "collapsed": true
   },
   "outputs": [],
   "source": [
    "temp = min_max_scaler.fit_transform(V10_train_data)\n",
    "V10_train_data = pd.DataFrame(temp, columns=time_columns)\n",
    "temp = min_max_scaler.transform(V10_test_data)\n",
    "V10_test_data = pd.DataFrame(temp, columns=time_columns)\n",
    "\n",
    "temp = min_max_scaler.fit_transform(V11_train_data)\n",
    "V11_train_data = pd.DataFrame(temp, columns=time_columns)\n",
    "temp = min_max_scaler.transform(V11_test_data)\n",
    "V11_test_data = pd.DataFrame(temp, columns=time_columns)\n",
    "\n",
    "temp = min_max_scaler.fit_transform(V20_train_data)\n",
    "V20_train_data = pd.DataFrame(temp, columns=time_columns)\n",
    "temp = min_max_scaler.transform(V20_test_data)\n",
    "V20_test_data = pd.DataFrame(temp, columns=time_columns)\n",
    "\n",
    "temp = min_max_scaler.fit_transform(V30_train_data)\n",
    "V30_train_data = pd.DataFrame(temp, columns=time_columns)\n",
    "temp = min_max_scaler.transform(V30_test_data)\n",
    "V30_test_data = pd.DataFrame(temp, columns=time_columns)\n",
    "\n",
    "temp = min_max_scaler.fit_transform(V31_train_data)\n",
    "V31_train_data = pd.DataFrame(temp, columns=time_columns)\n",
    "temp = min_max_scaler.transform(V31_test_data)\n",
    "V31_test_data = pd.DataFrame(temp, columns=time_columns)"
   ]
  },
  {
   "cell_type": "markdown",
   "metadata": {},
   "source": [
    "### kNN预测"
   ]
  },
  {
   "cell_type": "code",
   "execution_count": 9,
   "metadata": {
    "collapsed": true
   },
   "outputs": [],
   "source": [
    "KNeighborsRegressor = sklearn.neighbors.KNeighborsRegressor(n_neighbors = 5, weights='distance')"
   ]
  },
  {
   "cell_type": "code",
   "execution_count": 10,
   "metadata": {
    "collapsed": true
   },
   "outputs": [],
   "source": [
    "# 训练，预测\n",
    "KNeighborsRegressor.fit(A2_train_data, A2_label)\n",
    "A2_test_data['avg_travel_time'] = KNeighborsRegressor.predict(A2_test_data)\n",
    "\n",
    "KNeighborsRegressor.fit(A3_train_data, A3_label)\n",
    "A3_test_data['avg_travel_time'] = KNeighborsRegressor.predict(A3_test_data)\n",
    "\n",
    "KNeighborsRegressor.fit(B1_train_data, B1_label)\n",
    "B1_test_data['avg_travel_time'] = KNeighborsRegressor.predict(B1_test_data)\n",
    "\n",
    "KNeighborsRegressor.fit(B3_train_data, B3_label)\n",
    "B3_test_data['avg_travel_time'] = KNeighborsRegressor.predict(B3_test_data)\n",
    "\n",
    "KNeighborsRegressor.fit(C1_train_data, C1_label)\n",
    "C1_test_data['avg_travel_time'] = KNeighborsRegressor.predict(C1_test_data)\n",
    "\n",
    "KNeighborsRegressor.fit(C3_train_data, C3_label)\n",
    "C3_test_data['avg_travel_time'] = KNeighborsRegressor.predict(C3_test_data)"
   ]
  },
  {
   "cell_type": "code",
   "execution_count": 11,
   "metadata": {
    "collapsed": true
   },
   "outputs": [],
   "source": [
    "KNeighborsRegressor.fit(V10_train_data, V10_label)\n",
    "V10_test_data['volume'] = KNeighborsRegressor.predict(V10_test_data)\n",
    "\n",
    "KNeighborsRegressor.fit(V11_train_data, V11_label)\n",
    "V11_test_data['volume'] = KNeighborsRegressor.predict(V11_test_data)\n",
    "\n",
    "KNeighborsRegressor.fit(V20_train_data, V20_label)\n",
    "V20_test_data['volume'] = KNeighborsRegressor.predict(V20_test_data)\n",
    "\n",
    "KNeighborsRegressor.fit(V30_train_data, V30_label)\n",
    "V30_test_data['volume'] = KNeighborsRegressor.predict(V30_test_data)\n",
    "\n",
    "KNeighborsRegressor.fit(V31_train_data, V31_label)\n",
    "V31_test_data['volume'] = KNeighborsRegressor.predict(V31_test_data)"
   ]
  },
  {
   "cell_type": "code",
   "execution_count": 12,
   "metadata": {
    "collapsed": true
   },
   "outputs": [],
   "source": [
    "# 整合\n",
    "travel_time_submission = pd.read_csv('/home/godcedric/GitLocal/KDDCUP2017/final_data/原始数据/submission_sample_travelTime.csv')\n",
    "volume_submission = pd.read_csv('/home/godcedric/GitLocal/KDDCUP2017/final_data/原始数据/submission_sample_volume.csv')\n",
    "\n",
    "temp1 = pd.concat([A2_test_data, A3_test_data, B1_test_data, B3_test_data, C1_test_data, C3_test_data], axis=0)\n",
    "temp2 = pd.concat([V10_test_data, V11_test_data, V20_test_data, V30_test_data, V31_test_data], axis=0)\n",
    "\n",
    "travel_time_submission['avg_travel_time'] = np.array(temp1.avg_travel_time)\n",
    "volume_submission['volume'] = np.array(temp2.volume)"
   ]
  },
  {
   "cell_type": "code",
   "execution_count": 13,
   "metadata": {
    "collapsed": true
   },
   "outputs": [],
   "source": [
    "# 输出\n",
    "travel_time_submission.to_csv('/home/godcedric/GitLocal/KDDCUP2017/submission_result/phase2.0/kNN/travel_time_submission.csv', index=False)\n",
    "volume_submission.to_csv('/home/godcedric/GitLocal/KDDCUP2017/submission_result/phase2.0/kNN/volume_submission.csv', index=False)"
   ]
  },
  {
   "cell_type": "markdown",
   "metadata": {},
   "source": [
    "### kNN填充last_20min缺失值"
   ]
  },
  {
   "cell_type": "code",
   "execution_count": 14,
   "metadata": {
    "collapsed": true
   },
   "outputs": [],
   "source": [
    "travel_time_test_data = pd.read_csv('/home/godcedric/GitLocal/KDDCUP2017/final_data/加工好的数据/6.0/test_travel_time_data.csv')\n",
    "volume_test_data = pd.read_csv('/home/godcedric/GitLocal/KDDCUP2017/final_data/加工好的数据/6.0/test_volume_data.csv')"
   ]
  },
  {
   "cell_type": "code",
   "execution_count": 17,
   "metadata": {
    "collapsed": false
   },
   "outputs": [],
   "source": [
    "# 排好序\n",
    "travel_time_test_data['start_time'] = travel_time_test_data['time_window'].map(lambda x: datetime.strptime(x.split(',')[0][1:], '%Y-%m-%d %H:%M:%S'))\n",
    "volume_test_data['start_time'] = volume_test_data['time_window'].map(lambda x: datetime.strptime(x.split(',')[0][1:], '%Y-%m-%d %H:%M:%S'))\n",
    "travel_time_test_data = travel_time_test_data.sort_values(by = ['intersection_id', 'tollgate_id', 'start_time'])\n",
    "travel_time_test_data.index = np.arange(len(travel_time_test_data))\n",
    "del travel_time_test_data['start_time']\n",
    "volume_test_data = volume_test_data.sort_values(by = ['tollgate_id', 'direction', 'start_time'])\n",
    "volume_test_data.index = np.arange(len(volume_test_data))\n",
    "del volume_test_data['start_time']"
   ]
  },
  {
   "cell_type": "code",
   "execution_count": 16,
   "metadata": {
    "collapsed": false
   },
   "outputs": [
    {
     "name": "stderr",
     "output_type": "stream",
     "text": [
      "/home/godcedric/anaconda3/lib/python3.6/site-packages/ipykernel/__main__.py:6: SettingWithCopyWarning: \n",
      "A value is trying to be set on a copy of a slice from a DataFrame\n",
      "\n",
      "See the caveats in the documentation: http://pandas.pydata.org/pandas-docs/stable/indexing.html#indexing-view-versus-copy\n"
     ]
    }
   ],
   "source": [
    "# 填充值\n",
    "time_target = travel_time_submission['avg_travel_time'].values\n",
    "travel_time_test_data = travel_time_test_data.set_index(np.arange(len(travel_time_test_data)))\n",
    "for i in range(len(travel_time_test_data)):\n",
    "    if i % 6 == 1:\n",
    "        travel_time_test_data['last_20min'][i] = time_target[i-1]\n",
    "    if i % 6 == 2:\n",
    "        travel_time_test_data['last_20min'][i] = time_target[i-1]\n",
    "        travel_time_test_data['last_40min'][i] = time_target[i-2]\n",
    "    if i % 6 == 3:\n",
    "        travel_time_test_data['last_20min'][i] = time_target[i-1]\n",
    "        travel_time_test_data['last_40min'][i] = time_target[i-2]\n",
    "        travel_time_test_data['last_60min'][i] = time_target[i-3]\n",
    "    if i % 6 == 4:\n",
    "        travel_time_test_data['last_20min'][i] = time_target[i-1]\n",
    "        travel_time_test_data['last_40min'][i] = time_target[i-2]\n",
    "        travel_time_test_data['last_60min'][i] = time_target[i-3]\n",
    "        travel_time_test_data['last_80min'][i] = time_target[i-4]\n",
    "    if i % 6 == 5:\n",
    "        travel_time_test_data['last_20min'][i] = time_target[i-1]\n",
    "        travel_time_test_data['last_40min'][i] = time_target[i-2]\n",
    "        travel_time_test_data['last_60min'][i] = time_target[i-3]\n",
    "        travel_time_test_data['last_80min'][i] = time_target[i-4]\n",
    "        travel_time_test_data['last_100min'][i] = time_target[i-5]"
   ]
  },
  {
   "cell_type": "code",
   "execution_count": 17,
   "metadata": {
    "collapsed": false
   },
   "outputs": [
    {
     "name": "stderr",
     "output_type": "stream",
     "text": [
      "/home/godcedric/anaconda3/lib/python3.6/site-packages/ipykernel/__main__.py:5: SettingWithCopyWarning: \n",
      "A value is trying to be set on a copy of a slice from a DataFrame\n",
      "\n",
      "See the caveats in the documentation: http://pandas.pydata.org/pandas-docs/stable/indexing.html#indexing-view-versus-copy\n"
     ]
    }
   ],
   "source": [
    "volume_target = volume_submission['volume'].values\n",
    "volume_test_data = volume_test_data.set_index(np.arange(len(volume_test_data)))\n",
    "for i in range(len(volume_test_data)):\n",
    "    if i % 6 == 1:\n",
    "        volume_test_data['last_20min'][i] = volume_target[i-1]\n",
    "    if i % 6 == 2:\n",
    "        volume_test_data['last_20min'][i] = volume_target[i-1]\n",
    "        volume_test_data['last_40min'][i] = volume_target[i-2]\n",
    "    if i % 6 == 3:\n",
    "        volume_test_data['last_20min'][i] = volume_target[i-1]\n",
    "        volume_test_data['last_40min'][i] = volume_target[i-2]\n",
    "        volume_test_data['last_60min'][i] = volume_target[i-3]\n",
    "    if i % 6 == 4:\n",
    "        volume_test_data['last_20min'][i] = volume_target[i-1]\n",
    "        volume_test_data['last_40min'][i] = volume_target[i-2]\n",
    "        volume_test_data['last_60min'][i] = volume_target[i-3]\n",
    "        volume_test_data['last_80min'][i] = volume_target[i-4]\n",
    "    if i % 6 == 5:\n",
    "        volume_test_data['last_20min'][i] = volume_target[i-1]\n",
    "        volume_test_data['last_40min'][i] = volume_target[i-2]\n",
    "        volume_test_data['last_60min'][i] = volume_target[i-3]\n",
    "        volume_test_data['last_80min'][i] = volume_target[i-4]\n",
    "        volume_test_data['last_100min'][i] = volume_target[i-5]"
   ]
  },
  {
   "cell_type": "code",
   "execution_count": 18,
   "metadata": {
    "collapsed": true
   },
   "outputs": [],
   "source": [
    "# 写出数据\n",
    "travel_time_test_data.to_csv('/home/godcedric/GitLocal/KDDCUP2017/加工过的数据集/5.0/kNN填充缺失值/travel_time_test_data.csv', index=False)\n",
    "volume_test_data.to_csv('/home/godcedric/GitLocal/KDDCUP2017/加工过的数据集/5.0/kNN填充缺失值/volume_test_data.csv', index=False)"
   ]
  },
  {
   "cell_type": "code",
   "execution_count": null,
   "metadata": {
    "collapsed": true
   },
   "outputs": [],
   "source": []
  }
 ],
 "metadata": {
  "kernelspec": {
   "display_name": "Python 3",
   "language": "python",
   "name": "python3"
  },
  "language_info": {
   "codemirror_mode": {
    "name": "ipython",
    "version": 3
   },
   "file_extension": ".py",
   "mimetype": "text/x-python",
   "name": "python",
   "nbconvert_exporter": "python",
   "pygments_lexer": "ipython3",
   "version": "3.6.0"
  }
 },
 "nbformat": 4,
 "nbformat_minor": 2
}
