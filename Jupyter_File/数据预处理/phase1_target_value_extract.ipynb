{
 "cells": [
  {
   "cell_type": "markdown",
   "metadata": {},
   "source": [
    "# phase1_target_value_extract"
   ]
  },
  {
   "cell_type": "markdown",
   "metadata": {},
   "source": [
    "2017-05-25"
   ]
  },
  {
   "cell_type": "code",
   "execution_count": 28,
   "metadata": {
    "collapsed": true
   },
   "outputs": [],
   "source": [
    "import numpy as np\n",
    "import pandas as pd\n",
    "from datetime import datetime,timedelta,date,time"
   ]
  },
  {
   "cell_type": "code",
   "execution_count": 59,
   "metadata": {
    "collapsed": true
   },
   "outputs": [],
   "source": [
    "full_travel_time = pd.read_csv('/home/godcedric/GitLocal/KDDCUP2017/待加工数据集/18_25时间窗包含seq/full_travel_time.csv')\n",
    "full_volume = pd.read_csv('/home/godcedric/GitLocal/KDDCUP2017/待加工数据集/18_25号时间窗数据/18_24_full_20min_avg_volume.csv')"
   ]
  },
  {
   "cell_type": "code",
   "execution_count": 60,
   "metadata": {
    "collapsed": false
   },
   "outputs": [],
   "source": [
    "full_travel_time['hour'] = full_travel_time['time_window'].map(lambda x: datetime.strptime(x.split(',')[0][1:],'%Y-%m-%d %H:%M:%S').hour)\n",
    "full_volume['hour'] = full_volume['time_window'].map(lambda x: datetime.strptime(x.split(',')[0][1:],'%Y-%m-%d %H:%M:%S').hour)"
   ]
  },
  {
   "cell_type": "code",
   "execution_count": 61,
   "metadata": {
    "collapsed": false
   },
   "outputs": [
    {
     "name": "stdout",
     "output_type": "stream",
     "text": [
      "A 2\n",
      "84\n",
      "A 3\n",
      "84\n",
      "B 1\n",
      "73\n",
      "B 3\n",
      "84\n",
      "C 1\n",
      "76\n",
      "C 3\n",
      "60\n"
     ]
    }
   ],
   "source": [
    "phase1_target_values_travel_time = full_travel_time[(full_travel_time['hour']==8) |\\\n",
    "                                                    (full_travel_time['hour']==9) |\\\n",
    "                                                    (full_travel_time['hour']==17) |\\\n",
    "                                                    (full_travel_time['hour']==18)\n",
    "                                                   ]\n",
    "\n",
    "del phase1_target_values_travel_time['hour']\n",
    "phase1_target_values_travel_time = phase1_target_values_travel_time.sort_values(by=['intersection_id','tollgate_id'])\n",
    "\n",
    "temp = phase1_target_values_travel_time.groupby(['intersection_id', 'tollgate_id'])['avg_travel_time']\n",
    "for (k1,k2), group in temp:\n",
    "    print(k1,k2)\n",
    "    print(group.count())"
   ]
  },
  {
   "cell_type": "code",
   "execution_count": 62,
   "metadata": {
    "collapsed": false
   },
   "outputs": [
    {
     "name": "stdout",
     "output_type": "stream",
     "text": [
      "1 0\n",
      "84\n",
      "1 1\n",
      "84\n",
      "2 0\n",
      "84\n",
      "3 0\n",
      "84\n",
      "3 1\n",
      "84\n"
     ]
    }
   ],
   "source": [
    "phase1_target_values_volume = full_volume[(full_volume['hour']==8) |\\\n",
    "                                          (full_volume['hour']==9) |\\\n",
    "                                          (full_volume['hour']==17) |\\\n",
    "                                          (full_volume['hour']==18)\n",
    "                                         ]\n",
    "\n",
    "del phase1_target_values_volume['hour']\n",
    "phase1_target_values_volume = phase1_target_values_volume.sort_values(by=['tollgate_id','direction'])\n",
    "\n",
    "temp = phase1_target_values_volume.groupby(['tollgate_id', 'direction'])['volume']\n",
    "for (k1,k2), group in temp:\n",
    "    print(k1,k2)\n",
    "    print(group.count())"
   ]
  },
  {
   "cell_type": "code",
   "execution_count": 63,
   "metadata": {
    "collapsed": false
   },
   "outputs": [],
   "source": [
    "phase1_target_values_travel_time.to_csv('/home/godcedric/GitLocal/KDDCUP2017/待加工数据集/18_25时间窗包含seq/phase1_target_values_travel_time.csv', index=False)\n",
    "#phase1_target_values_volume.to_csv('/home/godcedric/GitLocal/KDDCUP2017/待加工数据集/18_25号时间窗数据/phase1_target_values_volume.csv', index=False)"
   ]
  },
  {
   "cell_type": "code",
   "execution_count": null,
   "metadata": {
    "collapsed": true
   },
   "outputs": [],
   "source": []
  },
  {
   "cell_type": "code",
   "execution_count": null,
   "metadata": {
    "collapsed": true
   },
   "outputs": [],
   "source": []
  }
 ],
 "metadata": {
  "kernelspec": {
   "display_name": "Python 3",
   "language": "python",
   "name": "python3"
  },
  "language_info": {
   "codemirror_mode": {
    "name": "ipython",
    "version": 3
   },
   "file_extension": ".py",
   "mimetype": "text/x-python",
   "name": "python",
   "nbconvert_exporter": "python",
   "pygments_lexer": "ipython3",
   "version": "3.6.0"
  }
 },
 "nbformat": 4,
 "nbformat_minor": 2
}
