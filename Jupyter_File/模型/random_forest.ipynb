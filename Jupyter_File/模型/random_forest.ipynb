{
 "cells": [
  {
   "cell_type": "markdown",
   "metadata": {},
   "source": [
    "# RandomForestRegressor"
   ]
  },
  {
   "cell_type": "markdown",
   "metadata": {},
   "source": [
    "2017-05-22"
   ]
  },
  {
   "cell_type": "code",
   "execution_count": 21,
   "metadata": {
    "collapsed": true
   },
   "outputs": [],
   "source": [
    "from sklearn.ensemble import RandomForestRegressor\n",
    "import numpy as np\n",
    "import pandas as pd\n",
    "from datetime import datetime,timedelta,date,time"
   ]
  },
  {
   "cell_type": "markdown",
   "metadata": {},
   "source": [
    "### 录入数据"
   ]
  },
  {
   "cell_type": "code",
   "execution_count": 22,
   "metadata": {
    "collapsed": true
   },
   "outputs": [],
   "source": [
    "travel_time_train_data = pd.read_csv('/home/godcedric/GitLocal/KDDCUP2017/加工过的数据集/3.0/travel_time_train_data.csv')\n",
    "volume_train_data = pd.read_csv('/home/godcedric/GitLocal/KDDCUP2017/加工过的数据集/3.0/volume_train_data.csv')\n",
    "travel_time_test_data = pd.read_csv('/home/godcedric/GitLocal/KDDCUP2017/加工过的数据集/3.0/test_travel_time_data.csv')\n",
    "volume_test_data = pd.read_csv('/home/godcedric/GitLocal/KDDCUP2017/加工过的数据集/3.0/test_volume_data.csv')"
   ]
  },
  {
   "cell_type": "markdown",
   "metadata": {},
   "source": [
    "### 准备数据"
   ]
  },
  {
   "cell_type": "code",
   "execution_count": 23,
   "metadata": {
    "collapsed": true
   },
   "outputs": [],
   "source": [
    "# 分割训练集和验证集\n",
    "test_date = ['2016-10-11', '2016-10-12', '2016-10-13', '2016-10-14', '2016-10-15', '2016-10-16', '2016-10-17']\n",
    "def isin(x):\n",
    "    if x in test_date:\n",
    "        return 1\n",
    "    else:\n",
    "        return 0\n",
    "# 平均时间\n",
    "travel_time_train_data['is_test'] = travel_time_train_data['date'].map(isin)\n",
    "travel_time_train = travel_time_train_data[travel_time_train_data['is_test'] == 0]\n",
    "travel_time_val = travel_time_train_data[travel_time_train_data['is_test'] == 1]\n",
    "# 流量\n",
    "volume_train_data['is_test'] = volume_train_data['date'].map(isin)\n",
    "volume_train = volume_train_data[volume_train_data['is_test'] == 0]\n",
    "volume_val = volume_train_data[volume_train_data['is_test'] == 1]"
   ]
  },
  {
   "cell_type": "code",
   "execution_count": 24,
   "metadata": {
    "collapsed": true
   },
   "outputs": [],
   "source": [
    "# 分离标签和特征\n",
    "Y_time = travel_time_train.avg_travel_time\n",
    "X_time = travel_time_train.drop(['avg_travel_time'], axis=1)\n",
    "val_Y_time = travel_time_val.avg_travel_time\n",
    "val_X_time = travel_time_val.drop(['avg_travel_time'], axis=1)\n",
    "\n",
    "\n",
    "Y_volume = volume_train.volume\n",
    "X_volume = volume_train.drop(['volume'], axis=1)\n",
    "val_Y_volume = volume_val.volume\n",
    "val_X_volume = volume_val.drop(['volume'], axis=1)"
   ]
  },
  {
   "cell_type": "code",
   "execution_count": 25,
   "metadata": {
    "collapsed": false
   },
   "outputs": [],
   "source": [
    "# 平均时间\n",
    "# 选择特征\n",
    "X_time = X_time.drop(['intersection_id', 'tollgate_id', 'time_window', 'start_time', 'date', 'time'], axis=1)\n",
    "X_time = X_time.drop(['wind_direction2', 'wind_speed2', 'precipitation2', 'SSD_level'], axis=1)\n",
    "X_time = X_time.drop(['last_40min', 'last_60min', 'last_80min', 'last_100min', 'last_120min'], axis=1)\n",
    "X_time = X_time.drop(['datemap', 'is_test'], axis=1)\n",
    "#X_time = X_time.drop(['last_20min'], axis=1)\n",
    "X_time = X_time.drop(['route', 'timemap', 'hour', 'minute', 'weekday', 'is_workday'], axis=1)\n",
    "\n",
    "val_X_time = val_X_time.drop(['intersection_id', 'tollgate_id', 'time_window', 'start_time', 'date', 'time'], axis=1)\n",
    "val_X_time = val_X_time.drop(['wind_direction2', 'wind_speed2', 'precipitation2', 'SSD_level'], axis=1)\n",
    "val_X_time = val_X_time.drop(['last_40min', 'last_60min', 'last_80min', 'last_100min', 'last_120min'], axis=1)\n",
    "val_X_time = val_X_time.drop(['datemap', 'is_test'], axis=1)\n",
    "#val_X_time = val_X_time.drop(['last_20min'], axis=1)\n",
    "val_X_time = val_X_time.drop(['route', 'timemap', 'hour', 'minute', 'weekday', 'is_workday'], axis=1)\n",
    "\n",
    "# 测试集同步\n",
    "travel_time_submission = travel_time_test_data[['intersection_id', 'tollgate_id', 'time_window']]\n",
    "travel_time_test_data = travel_time_test_data.drop(['intersection_id', 'tollgate_id', 'time_window', 'start_time', 'date', 'time'], axis=1)\n",
    "travel_time_test_data = travel_time_test_data.drop(['wind_direction2', 'wind_speed2', 'precipitation2', 'SSD_level'], axis=1)\n",
    "travel_time_test_data = travel_time_test_data.drop(['last_40min', 'last_60min', 'last_80min', 'last_100min', 'last_120min'], axis=1)\n",
    "travel_time_test_data = travel_time_test_data.drop(['datemap'], axis=1)\n",
    "#travel_time_test_data = travel_time_test_data.drop(['last_20min'], axis=1)\n",
    "travel_time_test_data = travel_time_test_data.drop(['route', 'timemap', 'hour', 'minute', 'weekday', 'is_workday'], axis=1)"
   ]
  },
  {
   "cell_type": "code",
   "execution_count": 26,
   "metadata": {
    "collapsed": false
   },
   "outputs": [],
   "source": [
    "# 流量\n",
    "# 选择特征\n",
    "X_volume = X_volume.drop(['tollgate_id', 'direction', 'time_window', 'start_time', 'date', 'time'], axis=1)\n",
    "X_volume = X_volume.drop(['wind_direction2', 'wind_speed2', 'precipitation2', 'SSD_level'], axis=1)\n",
    "X_volume = X_volume.drop(['last_40min', 'last_60min', 'last_80min', 'last_100min', 'last_120min'], axis=1)\n",
    "X_volume = X_volume.drop(['datemap', 'is_test'], axis=1)\n",
    "#X_volume = X_volume.drop(['last_20min'], axis=1)\n",
    "X_volume = X_volume.drop(['pair', 'timemap', 'hour', 'minute', 'weekday', 'is_workday'], axis=1)\n",
    "\n",
    "val_X_volume = val_X_volume.drop(['tollgate_id', 'direction', 'time_window', 'start_time', 'date', 'time'], axis=1)\n",
    "val_X_volume = val_X_volume.drop(['wind_direction2', 'wind_speed2', 'precipitation2', 'SSD_level'], axis=1)\n",
    "val_X_volume = val_X_volume.drop(['last_40min', 'last_60min', 'last_80min', 'last_100min', 'last_120min'], axis=1)\n",
    "val_X_volume = val_X_volume.drop(['datemap', 'is_test'], axis=1)\n",
    "#val_X_volume = val_X_volume.drop(['last_20min'], axis=1)\n",
    "val_X_volume = val_X_volume.drop(['pair', 'timemap', 'hour', 'minute', 'weekday', 'is_workday'], axis=1)\n",
    "\n",
    "# 测试集同步\n",
    "volume_submission = volume_test_data[['tollgate_id', 'time_window', 'direction']]\n",
    "volume_test_data = volume_test_data.drop(['tollgate_id', 'direction', 'time_window', 'start_time', 'date', 'time'], axis=1)\n",
    "volume_test_data = volume_test_data.drop(['wind_direction2', 'wind_speed2', 'precipitation2', 'SSD_level'], axis=1)\n",
    "volume_test_data = volume_test_data.drop(['last_40min', 'last_60min', 'last_80min', 'last_100min', 'last_120min'], axis=1)\n",
    "volume_test_data = volume_test_data.drop(['datemap'], axis=1)\n",
    "#volume_test_data = volume_test_data.drop(['last_20min'], axis=1)\n",
    "volume_test_data = volume_test_data.drop(['pair', 'timemap', 'hour', 'minute', 'weekday', 'is_workday'], axis=1)"
   ]
  },
  {
   "cell_type": "code",
   "execution_count": 27,
   "metadata": {
    "collapsed": false
   },
   "outputs": [
    {
     "data": {
      "text/plain": [
       "array(['pressure', 'wind_direction', 'wind_speed', 'temperature',\n",
       "       'rel_humidity', 'precipitation', 'last_20min', 'SSD',\n",
       "       'in_link_cross_conut', 'out_link_cross_count', 'length',\n",
       "       'link_count', '1_length', '2_length', '3_length', '4_length',\n",
       "       '1_count', '2_count', '3_count', '4_count', 'A-2', 'A-3', 'B-1',\n",
       "       'B-3', 'C-1', 'C-3', 'hour__0', 'hour__1', 'hour__2', 'hour__3',\n",
       "       'hour__4', 'hour__5', 'hour__6', 'hour__7', 'hour__8', 'hour__9',\n",
       "       'hour__10', 'hour__11', 'hour__12', 'hour__13', 'hour__14',\n",
       "       'hour__15', 'hour__16', 'hour__17', 'hour__18', 'hour__19',\n",
       "       'hour__20', 'hour__21', 'hour__22', 'hour__23', 'minute__0',\n",
       "       'minute__20', 'minute__40', 'weekday__0', 'weekday__1',\n",
       "       'weekday__2', 'weekday__3', 'weekday__4', 'weekday__5',\n",
       "       'weekday__6', 'workday__1', 'workday__2', 'workday__3'], dtype=object)"
      ]
     },
     "execution_count": 27,
     "metadata": {},
     "output_type": "execute_result"
    }
   ],
   "source": [
    "X_time.columns.values"
   ]
  },
  {
   "cell_type": "code",
   "execution_count": 8,
   "metadata": {
    "collapsed": false
   },
   "outputs": [
    {
     "ename": "KeyError",
     "evalue": "'route'",
     "output_type": "error",
     "traceback": [
      "\u001b[0;31m---------------------------------------------------------------------------\u001b[0m",
      "\u001b[0;31mKeyError\u001b[0m                                  Traceback (most recent call last)",
      "\u001b[0;32m/home/godcedric/anaconda3/lib/python3.6/site-packages/pandas/indexes/base.py\u001b[0m in \u001b[0;36mget_loc\u001b[0;34m(self, key, method, tolerance)\u001b[0m\n\u001b[1;32m   2133\u001b[0m             \u001b[0;32mtry\u001b[0m\u001b[0;34m:\u001b[0m\u001b[0;34m\u001b[0m\u001b[0m\n\u001b[0;32m-> 2134\u001b[0;31m                 \u001b[0;32mreturn\u001b[0m \u001b[0mself\u001b[0m\u001b[0;34m.\u001b[0m\u001b[0m_engine\u001b[0m\u001b[0;34m.\u001b[0m\u001b[0mget_loc\u001b[0m\u001b[0;34m(\u001b[0m\u001b[0mkey\u001b[0m\u001b[0;34m)\u001b[0m\u001b[0;34m\u001b[0m\u001b[0m\n\u001b[0m\u001b[1;32m   2135\u001b[0m             \u001b[0;32mexcept\u001b[0m \u001b[0mKeyError\u001b[0m\u001b[0;34m:\u001b[0m\u001b[0;34m\u001b[0m\u001b[0m\n",
      "\u001b[0;32mpandas/index.pyx\u001b[0m in \u001b[0;36mpandas.index.IndexEngine.get_loc (pandas/index.c:4433)\u001b[0;34m()\u001b[0m\n",
      "\u001b[0;32mpandas/index.pyx\u001b[0m in \u001b[0;36mpandas.index.IndexEngine.get_loc (pandas/index.c:4279)\u001b[0;34m()\u001b[0m\n",
      "\u001b[0;32mpandas/src/hashtable_class_helper.pxi\u001b[0m in \u001b[0;36mpandas.hashtable.PyObjectHashTable.get_item (pandas/hashtable.c:13742)\u001b[0;34m()\u001b[0m\n",
      "\u001b[0;32mpandas/src/hashtable_class_helper.pxi\u001b[0m in \u001b[0;36mpandas.hashtable.PyObjectHashTable.get_item (pandas/hashtable.c:13696)\u001b[0;34m()\u001b[0m\n",
      "\u001b[0;31mKeyError\u001b[0m: 'route'",
      "\nDuring handling of the above exception, another exception occurred:\n",
      "\u001b[0;31mKeyError\u001b[0m                                  Traceback (most recent call last)",
      "\u001b[0;32m<ipython-input-8-c1ee80a12ff3>\u001b[0m in \u001b[0;36m<module>\u001b[0;34m()\u001b[0m\n\u001b[1;32m      1\u001b[0m \u001b[0;31m# 字符串特征转换数值\u001b[0m\u001b[0;34m\u001b[0m\u001b[0;34m\u001b[0m\u001b[0m\n\u001b[0;32m----> 2\u001b[0;31m \u001b[0mX_time\u001b[0m\u001b[0;34m[\u001b[0m\u001b[0;34m'route'\u001b[0m\u001b[0;34m]\u001b[0m \u001b[0;34m=\u001b[0m \u001b[0mpd\u001b[0m\u001b[0;34m.\u001b[0m\u001b[0mfactorize\u001b[0m\u001b[0;34m(\u001b[0m\u001b[0mX_time\u001b[0m\u001b[0;34m[\u001b[0m\u001b[0;34m'route'\u001b[0m\u001b[0;34m]\u001b[0m\u001b[0;34m)\u001b[0m\u001b[0;34m[\u001b[0m\u001b[0;36m0\u001b[0m\u001b[0;34m]\u001b[0m\u001b[0;34m\u001b[0m\u001b[0m\n\u001b[0m\u001b[1;32m      3\u001b[0m \u001b[0mval_X_time\u001b[0m\u001b[0;34m[\u001b[0m\u001b[0;34m'route'\u001b[0m\u001b[0;34m]\u001b[0m \u001b[0;34m=\u001b[0m \u001b[0mpd\u001b[0m\u001b[0;34m.\u001b[0m\u001b[0mfactorize\u001b[0m\u001b[0;34m(\u001b[0m\u001b[0mval_X_time\u001b[0m\u001b[0;34m[\u001b[0m\u001b[0;34m'route'\u001b[0m\u001b[0;34m]\u001b[0m\u001b[0;34m)\u001b[0m\u001b[0;34m[\u001b[0m\u001b[0;36m0\u001b[0m\u001b[0;34m]\u001b[0m\u001b[0;34m\u001b[0m\u001b[0m\n\u001b[1;32m      4\u001b[0m \u001b[0mtravel_time_test_data\u001b[0m\u001b[0;34m[\u001b[0m\u001b[0;34m'route'\u001b[0m\u001b[0;34m]\u001b[0m \u001b[0;34m=\u001b[0m \u001b[0mpd\u001b[0m\u001b[0;34m.\u001b[0m\u001b[0mfactorize\u001b[0m\u001b[0;34m(\u001b[0m\u001b[0mtravel_time_test_data\u001b[0m\u001b[0;34m[\u001b[0m\u001b[0;34m'route'\u001b[0m\u001b[0;34m]\u001b[0m\u001b[0;34m)\u001b[0m\u001b[0;34m[\u001b[0m\u001b[0;36m0\u001b[0m\u001b[0;34m]\u001b[0m\u001b[0;34m\u001b[0m\u001b[0m\n\u001b[1;32m      5\u001b[0m \u001b[0mX_volume\u001b[0m\u001b[0;34m[\u001b[0m\u001b[0;34m'pair'\u001b[0m\u001b[0;34m]\u001b[0m \u001b[0;34m=\u001b[0m \u001b[0mpd\u001b[0m\u001b[0;34m.\u001b[0m\u001b[0mfactorize\u001b[0m\u001b[0;34m(\u001b[0m\u001b[0mX_volume\u001b[0m\u001b[0;34m[\u001b[0m\u001b[0;34m'pair'\u001b[0m\u001b[0;34m]\u001b[0m\u001b[0;34m)\u001b[0m\u001b[0;34m[\u001b[0m\u001b[0;36m0\u001b[0m\u001b[0;34m]\u001b[0m\u001b[0;34m\u001b[0m\u001b[0m\n",
      "\u001b[0;32m/home/godcedric/anaconda3/lib/python3.6/site-packages/pandas/core/frame.py\u001b[0m in \u001b[0;36m__getitem__\u001b[0;34m(self, key)\u001b[0m\n\u001b[1;32m   2057\u001b[0m             \u001b[0;32mreturn\u001b[0m \u001b[0mself\u001b[0m\u001b[0;34m.\u001b[0m\u001b[0m_getitem_multilevel\u001b[0m\u001b[0;34m(\u001b[0m\u001b[0mkey\u001b[0m\u001b[0;34m)\u001b[0m\u001b[0;34m\u001b[0m\u001b[0m\n\u001b[1;32m   2058\u001b[0m         \u001b[0;32melse\u001b[0m\u001b[0;34m:\u001b[0m\u001b[0;34m\u001b[0m\u001b[0m\n\u001b[0;32m-> 2059\u001b[0;31m             \u001b[0;32mreturn\u001b[0m \u001b[0mself\u001b[0m\u001b[0;34m.\u001b[0m\u001b[0m_getitem_column\u001b[0m\u001b[0;34m(\u001b[0m\u001b[0mkey\u001b[0m\u001b[0;34m)\u001b[0m\u001b[0;34m\u001b[0m\u001b[0m\n\u001b[0m\u001b[1;32m   2060\u001b[0m \u001b[0;34m\u001b[0m\u001b[0m\n\u001b[1;32m   2061\u001b[0m     \u001b[0;32mdef\u001b[0m \u001b[0m_getitem_column\u001b[0m\u001b[0;34m(\u001b[0m\u001b[0mself\u001b[0m\u001b[0;34m,\u001b[0m \u001b[0mkey\u001b[0m\u001b[0;34m)\u001b[0m\u001b[0;34m:\u001b[0m\u001b[0;34m\u001b[0m\u001b[0m\n",
      "\u001b[0;32m/home/godcedric/anaconda3/lib/python3.6/site-packages/pandas/core/frame.py\u001b[0m in \u001b[0;36m_getitem_column\u001b[0;34m(self, key)\u001b[0m\n\u001b[1;32m   2064\u001b[0m         \u001b[0;31m# get column\u001b[0m\u001b[0;34m\u001b[0m\u001b[0;34m\u001b[0m\u001b[0m\n\u001b[1;32m   2065\u001b[0m         \u001b[0;32mif\u001b[0m \u001b[0mself\u001b[0m\u001b[0;34m.\u001b[0m\u001b[0mcolumns\u001b[0m\u001b[0;34m.\u001b[0m\u001b[0mis_unique\u001b[0m\u001b[0;34m:\u001b[0m\u001b[0;34m\u001b[0m\u001b[0m\n\u001b[0;32m-> 2066\u001b[0;31m             \u001b[0;32mreturn\u001b[0m \u001b[0mself\u001b[0m\u001b[0;34m.\u001b[0m\u001b[0m_get_item_cache\u001b[0m\u001b[0;34m(\u001b[0m\u001b[0mkey\u001b[0m\u001b[0;34m)\u001b[0m\u001b[0;34m\u001b[0m\u001b[0m\n\u001b[0m\u001b[1;32m   2067\u001b[0m \u001b[0;34m\u001b[0m\u001b[0m\n\u001b[1;32m   2068\u001b[0m         \u001b[0;31m# duplicate columns & possible reduce dimensionality\u001b[0m\u001b[0;34m\u001b[0m\u001b[0;34m\u001b[0m\u001b[0m\n",
      "\u001b[0;32m/home/godcedric/anaconda3/lib/python3.6/site-packages/pandas/core/generic.py\u001b[0m in \u001b[0;36m_get_item_cache\u001b[0;34m(self, item)\u001b[0m\n\u001b[1;32m   1384\u001b[0m         \u001b[0mres\u001b[0m \u001b[0;34m=\u001b[0m \u001b[0mcache\u001b[0m\u001b[0;34m.\u001b[0m\u001b[0mget\u001b[0m\u001b[0;34m(\u001b[0m\u001b[0mitem\u001b[0m\u001b[0;34m)\u001b[0m\u001b[0;34m\u001b[0m\u001b[0m\n\u001b[1;32m   1385\u001b[0m         \u001b[0;32mif\u001b[0m \u001b[0mres\u001b[0m \u001b[0;32mis\u001b[0m \u001b[0;32mNone\u001b[0m\u001b[0;34m:\u001b[0m\u001b[0;34m\u001b[0m\u001b[0m\n\u001b[0;32m-> 1386\u001b[0;31m             \u001b[0mvalues\u001b[0m \u001b[0;34m=\u001b[0m \u001b[0mself\u001b[0m\u001b[0;34m.\u001b[0m\u001b[0m_data\u001b[0m\u001b[0;34m.\u001b[0m\u001b[0mget\u001b[0m\u001b[0;34m(\u001b[0m\u001b[0mitem\u001b[0m\u001b[0;34m)\u001b[0m\u001b[0;34m\u001b[0m\u001b[0m\n\u001b[0m\u001b[1;32m   1387\u001b[0m             \u001b[0mres\u001b[0m \u001b[0;34m=\u001b[0m \u001b[0mself\u001b[0m\u001b[0;34m.\u001b[0m\u001b[0m_box_item_values\u001b[0m\u001b[0;34m(\u001b[0m\u001b[0mitem\u001b[0m\u001b[0;34m,\u001b[0m \u001b[0mvalues\u001b[0m\u001b[0;34m)\u001b[0m\u001b[0;34m\u001b[0m\u001b[0m\n\u001b[1;32m   1388\u001b[0m             \u001b[0mcache\u001b[0m\u001b[0;34m[\u001b[0m\u001b[0mitem\u001b[0m\u001b[0;34m]\u001b[0m \u001b[0;34m=\u001b[0m \u001b[0mres\u001b[0m\u001b[0;34m\u001b[0m\u001b[0m\n",
      "\u001b[0;32m/home/godcedric/anaconda3/lib/python3.6/site-packages/pandas/core/internals.py\u001b[0m in \u001b[0;36mget\u001b[0;34m(self, item, fastpath)\u001b[0m\n\u001b[1;32m   3541\u001b[0m \u001b[0;34m\u001b[0m\u001b[0m\n\u001b[1;32m   3542\u001b[0m             \u001b[0;32mif\u001b[0m \u001b[0;32mnot\u001b[0m \u001b[0misnull\u001b[0m\u001b[0;34m(\u001b[0m\u001b[0mitem\u001b[0m\u001b[0;34m)\u001b[0m\u001b[0;34m:\u001b[0m\u001b[0;34m\u001b[0m\u001b[0m\n\u001b[0;32m-> 3543\u001b[0;31m                 \u001b[0mloc\u001b[0m \u001b[0;34m=\u001b[0m \u001b[0mself\u001b[0m\u001b[0;34m.\u001b[0m\u001b[0mitems\u001b[0m\u001b[0;34m.\u001b[0m\u001b[0mget_loc\u001b[0m\u001b[0;34m(\u001b[0m\u001b[0mitem\u001b[0m\u001b[0;34m)\u001b[0m\u001b[0;34m\u001b[0m\u001b[0m\n\u001b[0m\u001b[1;32m   3544\u001b[0m             \u001b[0;32melse\u001b[0m\u001b[0;34m:\u001b[0m\u001b[0;34m\u001b[0m\u001b[0m\n\u001b[1;32m   3545\u001b[0m                 \u001b[0mindexer\u001b[0m \u001b[0;34m=\u001b[0m \u001b[0mnp\u001b[0m\u001b[0;34m.\u001b[0m\u001b[0marange\u001b[0m\u001b[0;34m(\u001b[0m\u001b[0mlen\u001b[0m\u001b[0;34m(\u001b[0m\u001b[0mself\u001b[0m\u001b[0;34m.\u001b[0m\u001b[0mitems\u001b[0m\u001b[0;34m)\u001b[0m\u001b[0;34m)\u001b[0m\u001b[0;34m[\u001b[0m\u001b[0misnull\u001b[0m\u001b[0;34m(\u001b[0m\u001b[0mself\u001b[0m\u001b[0;34m.\u001b[0m\u001b[0mitems\u001b[0m\u001b[0;34m)\u001b[0m\u001b[0;34m]\u001b[0m\u001b[0;34m\u001b[0m\u001b[0m\n",
      "\u001b[0;32m/home/godcedric/anaconda3/lib/python3.6/site-packages/pandas/indexes/base.py\u001b[0m in \u001b[0;36mget_loc\u001b[0;34m(self, key, method, tolerance)\u001b[0m\n\u001b[1;32m   2134\u001b[0m                 \u001b[0;32mreturn\u001b[0m \u001b[0mself\u001b[0m\u001b[0;34m.\u001b[0m\u001b[0m_engine\u001b[0m\u001b[0;34m.\u001b[0m\u001b[0mget_loc\u001b[0m\u001b[0;34m(\u001b[0m\u001b[0mkey\u001b[0m\u001b[0;34m)\u001b[0m\u001b[0;34m\u001b[0m\u001b[0m\n\u001b[1;32m   2135\u001b[0m             \u001b[0;32mexcept\u001b[0m \u001b[0mKeyError\u001b[0m\u001b[0;34m:\u001b[0m\u001b[0;34m\u001b[0m\u001b[0m\n\u001b[0;32m-> 2136\u001b[0;31m                 \u001b[0;32mreturn\u001b[0m \u001b[0mself\u001b[0m\u001b[0;34m.\u001b[0m\u001b[0m_engine\u001b[0m\u001b[0;34m.\u001b[0m\u001b[0mget_loc\u001b[0m\u001b[0;34m(\u001b[0m\u001b[0mself\u001b[0m\u001b[0;34m.\u001b[0m\u001b[0m_maybe_cast_indexer\u001b[0m\u001b[0;34m(\u001b[0m\u001b[0mkey\u001b[0m\u001b[0;34m)\u001b[0m\u001b[0;34m)\u001b[0m\u001b[0;34m\u001b[0m\u001b[0m\n\u001b[0m\u001b[1;32m   2137\u001b[0m \u001b[0;34m\u001b[0m\u001b[0m\n\u001b[1;32m   2138\u001b[0m         \u001b[0mindexer\u001b[0m \u001b[0;34m=\u001b[0m \u001b[0mself\u001b[0m\u001b[0;34m.\u001b[0m\u001b[0mget_indexer\u001b[0m\u001b[0;34m(\u001b[0m\u001b[0;34m[\u001b[0m\u001b[0mkey\u001b[0m\u001b[0;34m]\u001b[0m\u001b[0;34m,\u001b[0m \u001b[0mmethod\u001b[0m\u001b[0;34m=\u001b[0m\u001b[0mmethod\u001b[0m\u001b[0;34m,\u001b[0m \u001b[0mtolerance\u001b[0m\u001b[0;34m=\u001b[0m\u001b[0mtolerance\u001b[0m\u001b[0;34m)\u001b[0m\u001b[0;34m\u001b[0m\u001b[0m\n",
      "\u001b[0;32mpandas/index.pyx\u001b[0m in \u001b[0;36mpandas.index.IndexEngine.get_loc (pandas/index.c:4433)\u001b[0;34m()\u001b[0m\n",
      "\u001b[0;32mpandas/index.pyx\u001b[0m in \u001b[0;36mpandas.index.IndexEngine.get_loc (pandas/index.c:4279)\u001b[0;34m()\u001b[0m\n",
      "\u001b[0;32mpandas/src/hashtable_class_helper.pxi\u001b[0m in \u001b[0;36mpandas.hashtable.PyObjectHashTable.get_item (pandas/hashtable.c:13742)\u001b[0;34m()\u001b[0m\n",
      "\u001b[0;32mpandas/src/hashtable_class_helper.pxi\u001b[0m in \u001b[0;36mpandas.hashtable.PyObjectHashTable.get_item (pandas/hashtable.c:13696)\u001b[0;34m()\u001b[0m\n",
      "\u001b[0;31mKeyError\u001b[0m: 'route'"
     ]
    }
   ],
   "source": [
    "# 字符串特征转换数值\n",
    "X_time['route'] = pd.factorize(X_time['route'])[0]\n",
    "val_X_time['route'] = pd.factorize(val_X_time['route'])[0]\n",
    "travel_time_test_data['route'] = pd.factorize(travel_time_test_data['route'])[0]\n",
    "X_volume['pair'] = pd.factorize(X_volume['pair'])[0]\n",
    "val_X_volume['pair'] = pd.factorize(val_X_volume['pair'])[0]\n",
    "volume_test_data['pair'] = pd.factorize(volume_test_data['pair'])[0]"
   ]
  },
  {
   "cell_type": "markdown",
   "metadata": {},
   "source": [
    "### 训练"
   ]
  },
  {
   "cell_type": "code",
   "execution_count": 28,
   "metadata": {
    "collapsed": true
   },
   "outputs": [],
   "source": [
    "# 自定义评价函数\n",
    "def MAPE(preds, realval):\n",
    "    return 'MAPE', float(sum(np.fabs((realval - preds) / realval))) / len(realval)"
   ]
  },
  {
   "cell_type": "code",
   "execution_count": 29,
   "metadata": {
    "collapsed": false
   },
   "outputs": [
    {
     "name": "stdout",
     "output_type": "stream",
     "text": [
      "0.530465752499\n",
      "('MAPE', 0.19799182788658606)\n"
     ]
    },
    {
     "name": "stderr",
     "output_type": "stream",
     "text": [
      "/home/godcedric/anaconda3/lib/python3.6/site-packages/sklearn/ensemble/forest.py:723: UserWarning: Some inputs do not have OOB scores. This probably means too few trees were used to compute any reliable oob estimates.\n",
      "  warn(\"Some inputs do not have OOB scores. \"\n"
     ]
    }
   ],
   "source": [
    "# 默认参数\n",
    "rf_default = RandomForestRegressor(oob_score = True, random_state = 10)\n",
    "rf_default.fit(X_time, Y_time)\n",
    "print(rf_default.oob_score_)  \n",
    "\n",
    "# 验证集情况\n",
    "preds = rf_default.predict(val_X_time)\n",
    "\n",
    "print(MAPE(preds, val_Y_time))\n",
    "\n",
    "# 预测及输出\n"
   ]
  },
  {
   "cell_type": "code",
   "execution_count": 30,
   "metadata": {
    "collapsed": false
   },
   "outputs": [
    {
     "data": {
      "text/plain": [
       "array(['pressure', 'wind_direction', 'wind_speed', 'temperature',\n",
       "       'rel_humidity', 'precipitation', 'last_20min', 'SSD', '1-0', '1-1',\n",
       "       '2-0', '3-0', '3-1', 'hour__0', 'hour__1', 'hour__2', 'hour__3',\n",
       "       'hour__4', 'hour__5', 'hour__6', 'hour__7', 'hour__8', 'hour__9',\n",
       "       'hour__10', 'hour__11', 'hour__12', 'hour__13', 'hour__14',\n",
       "       'hour__15', 'hour__16', 'hour__17', 'hour__18', 'hour__19',\n",
       "       'hour__20', 'hour__21', 'hour__22', 'hour__23', 'minute__0',\n",
       "       'minute__20', 'minute__40', 'weekday__0', 'weekday__1',\n",
       "       'weekday__2', 'weekday__3', 'weekday__4', 'weekday__5',\n",
       "       'weekday__6', 'workday__1', 'workday__2', 'workday__3'], dtype=object)"
      ]
     },
     "execution_count": 30,
     "metadata": {},
     "output_type": "execute_result"
    }
   ],
   "source": [
    "X_volume.columns.values"
   ]
  },
  {
   "cell_type": "code",
   "execution_count": 31,
   "metadata": {
    "collapsed": false
   },
   "outputs": [
    {
     "name": "stdout",
     "output_type": "stream",
     "text": [
      "0.878007502261\n",
      "('MAPE', 0.27008234326181885)\n"
     ]
    },
    {
     "name": "stderr",
     "output_type": "stream",
     "text": [
      "/home/godcedric/anaconda3/lib/python3.6/site-packages/sklearn/ensemble/forest.py:723: UserWarning: Some inputs do not have OOB scores. This probably means too few trees were used to compute any reliable oob estimates.\n",
      "  warn(\"Some inputs do not have OOB scores. \"\n"
     ]
    }
   ],
   "source": [
    "rf_default2 = RandomForestRegressor(oob_score = True, random_state = 10)\n",
    "rf_default2.fit(X_volume, Y_volume)\n",
    "print(rf_default2.oob_score_) \n",
    "\n",
    "# 验证集情况\n",
    "preds2 = rf_default2.predict(val_X_volume)\n",
    "\n",
    "print(MAPE(preds2, val_Y_volume))"
   ]
  },
  {
   "cell_type": "code",
   "execution_count": null,
   "metadata": {
    "collapsed": true
   },
   "outputs": [],
   "source": []
  }
 ],
 "metadata": {
  "kernelspec": {
   "display_name": "Python 3",
   "language": "python",
   "name": "python3"
  },
  "language_info": {
   "codemirror_mode": {
    "name": "ipython",
    "version": 3
   },
   "file_extension": ".py",
   "mimetype": "text/x-python",
   "name": "python",
   "nbconvert_exporter": "python",
   "pygments_lexer": "ipython3",
   "version": "3.6.0"
  }
 },
 "nbformat": 4,
 "nbformat_minor": 2
}
