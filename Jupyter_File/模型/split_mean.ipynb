{
 "cells": [
  {
   "cell_type": "markdown",
   "metadata": {},
   "source": [
    "# split_mean"
   ]
  },
  {
   "cell_type": "markdown",
   "metadata": {},
   "source": [
    "2017-05-31"
   ]
  },
  {
   "cell_type": "code",
   "execution_count": 1,
   "metadata": {
    "collapsed": true
   },
   "outputs": [],
   "source": [
    "import numpy as np\n",
    "import pandas as pd\n",
    "import matplotlib.pyplot as plt\n",
    "%matplotlib inline\n",
    "import copy\n",
    "from datetime import datetime,timedelta,date,time"
   ]
  },
  {
   "cell_type": "markdown",
   "metadata": {},
   "source": [
    "### 录入数据"
   ]
  },
  {
   "cell_type": "code",
   "execution_count": 2,
   "metadata": {
    "collapsed": true
   },
   "outputs": [],
   "source": [
    "travel_time_train = pd.read_csv('/home/godcedric/GitLocal/KDDCUP2017/final_data/train_mean/time_train_with_mean.csv')\n",
    "volume_train = pd.read_csv('/home/godcedric/GitLocal/KDDCUP2017/final_data/train_mean/volume_train_with_mean.csv')\n",
    "\n",
    "test_travel_time = pd.read_csv('/home/godcedric/GitLocal/KDDCUP2017/final_data/train_mean/test_travel_time_data.csv')\n",
    "test_volume = pd.read_csv('/home/godcedric/GitLocal/KDDCUP2017/final_data/train_mean/test_volume_data.csv')"
   ]
  },
  {
   "cell_type": "code",
   "execution_count": 3,
   "metadata": {
    "collapsed": false
   },
   "outputs": [
    {
     "data": {
      "text/plain": [
       "Index(['avg_travel_time', 'is_true', 'route', 'intersection_id', 'tollgate_id',\n",
       "       'time_window', 'start_time', 'date', 'month', 'day', 'weekday',\n",
       "       'holiday', 'time', 'hour', 'minute', 'timemap', 'pressure',\n",
       "       'sea_pressure', 'wind_direction', 'wind_speed', 'temperature',\n",
       "       'rel_humidity', 'precipitation', 'last_20min', 'last_20min_A2',\n",
       "       'last_20min_A3', 'last_20min_B1', 'last_20min_B3', 'last_20min_C1',\n",
       "       'last_20min_C3', 'last_20min_V10', 'last_20min_V11', 'last_20min_V20',\n",
       "       'last_20min_V30', 'last_20min_V31', 'mean_travel_time'],\n",
       "      dtype='object')"
      ]
     },
     "execution_count": 3,
     "metadata": {},
     "output_type": "execute_result"
    }
   ],
   "source": [
    "travel_time_train.columns"
   ]
  },
  {
   "cell_type": "markdown",
   "metadata": {},
   "source": [
    "### 分割路径，对"
   ]
  },
  {
   "cell_type": "code",
   "execution_count": 4,
   "metadata": {
    "collapsed": true
   },
   "outputs": [],
   "source": [
    "A2_train = travel_time_train[travel_time_train['route'] == 'A-2']\n",
    "A3_train = travel_time_train[travel_time_train['route'] == 'A-3']\n",
    "B1_train = travel_time_train[travel_time_train['route'] == 'B-1']\n",
    "B3_train = travel_time_train[travel_time_train['route'] == 'B-3']\n",
    "C1_train = travel_time_train[travel_time_train['route'] == 'C-1']\n",
    "C3_train = travel_time_train[travel_time_train['route'] == 'C-3']\n",
    "\n",
    "A2_test = test_travel_time[test_travel_time['route'] == 'A-2']\n",
    "A3_test = test_travel_time[test_travel_time['route'] == 'A-3']\n",
    "B1_test = test_travel_time[test_travel_time['route'] == 'B-1']\n",
    "B3_test = test_travel_time[test_travel_time['route'] == 'B-3']\n",
    "C1_test = test_travel_time[test_travel_time['route'] == 'C-1']\n",
    "C3_test = test_travel_time[test_travel_time['route'] == 'C-3']\n",
    "\n",
    "V10_train =  volume_train[volume_train['pair'] == '1-0']\n",
    "V11_train =  volume_train[volume_train['pair'] == '1-1']\n",
    "V20_train =  volume_train[volume_train['pair'] == '2-0']\n",
    "V30_train =  volume_train[volume_train['pair'] == '3-0']\n",
    "V31_train =  volume_train[volume_train['pair'] == '3-1']\n",
    "\n",
    "V10_test =  test_volume[test_volume['pair'] == '1-0']\n",
    "V11_test =  test_volume[test_volume['pair'] == '1-1']\n",
    "V20_test =  test_volume[test_volume['pair'] == '2-0']\n",
    "V30_test =  test_volume[test_volume['pair'] == '3-0']\n",
    "V31_test =  test_volume[test_volume['pair'] == '3-1']"
   ]
  },
  {
   "cell_type": "code",
   "execution_count": 6,
   "metadata": {
    "collapsed": false
   },
   "outputs": [],
   "source": [
    "# 自定义评分函数\n",
    "def MAPE2(y_true, y_pred):\n",
    "    return np.mean(np.abs((y_true - y_pred) / y_true))"
   ]
  },
  {
   "cell_type": "markdown",
   "metadata": {},
   "source": [
    "### 分析均值拟合情况"
   ]
  },
  {
   "cell_type": "markdown",
   "metadata": {},
   "source": [
    "#### A2"
   ]
  },
  {
   "cell_type": "code",
   "execution_count": 7,
   "metadata": {
    "collapsed": false
   },
   "outputs": [
    {
     "name": "stdout",
     "output_type": "stream",
     "text": [
      "0.17899480382838398\n"
     ]
    }
   ],
   "source": [
    "A2_train_true = A2_train[A2_train['is_true'] == True]\n",
    "\n",
    "print(MAPE2(A2_train_true.avg_travel_time, A2_train_true.mean_travel_time))"
   ]
  },
  {
   "cell_type": "markdown",
   "metadata": {},
   "source": [
    "#### A3"
   ]
  },
  {
   "cell_type": "code",
   "execution_count": 8,
   "metadata": {
    "collapsed": false
   },
   "outputs": [
    {
     "name": "stdout",
     "output_type": "stream",
     "text": [
      "0.17446940737216401\n"
     ]
    }
   ],
   "source": [
    "A3_train_true = A3_train[A3_train['is_true'] == True]\n",
    "\n",
    "print(MAPE2(A3_train_true.avg_travel_time, A3_train_true.mean_travel_time))"
   ]
  },
  {
   "cell_type": "markdown",
   "metadata": {},
   "source": [
    "#### B1"
   ]
  },
  {
   "cell_type": "code",
   "execution_count": 9,
   "metadata": {
    "collapsed": false
   },
   "outputs": [
    {
     "name": "stdout",
     "output_type": "stream",
     "text": [
      "0.1589959301307104\n"
     ]
    }
   ],
   "source": [
    "B1_train_true = B1_train[B1_train['is_true'] == True]\n",
    "\n",
    "print(MAPE2(B1_train_true.avg_travel_time, B1_train_true.mean_travel_time))"
   ]
  },
  {
   "cell_type": "markdown",
   "metadata": {},
   "source": [
    "#### B3"
   ]
  },
  {
   "cell_type": "code",
   "execution_count": 10,
   "metadata": {
    "collapsed": false
   },
   "outputs": [
    {
     "name": "stdout",
     "output_type": "stream",
     "text": [
      "0.19409534565517078\n"
     ]
    }
   ],
   "source": [
    "B3_train_true = B3_train[B3_train['is_true'] == True]\n",
    "\n",
    "print(MAPE2(B3_train_true.avg_travel_time, B3_train_true.mean_travel_time))"
   ]
  },
  {
   "cell_type": "markdown",
   "metadata": {},
   "source": [
    "#### C1"
   ]
  },
  {
   "cell_type": "code",
   "execution_count": 11,
   "metadata": {
    "collapsed": false
   },
   "outputs": [
    {
     "name": "stdout",
     "output_type": "stream",
     "text": [
      "0.14455709789177212\n"
     ]
    }
   ],
   "source": [
    "C1_train_true = C1_train[C1_train['is_true'] == True]\n",
    "\n",
    "print(MAPE2(C1_train_true.avg_travel_time, C1_train_true.mean_travel_time))"
   ]
  },
  {
   "cell_type": "markdown",
   "metadata": {},
   "source": [
    "#### C3"
   ]
  },
  {
   "cell_type": "code",
   "execution_count": 13,
   "metadata": {
    "collapsed": false
   },
   "outputs": [
    {
     "name": "stdout",
     "output_type": "stream",
     "text": [
      "0.17882609669592983\n"
     ]
    }
   ],
   "source": [
    "C3_train_true = C3_train[C3_train['is_true'] == True]\n",
    "\n",
    "print(MAPE2(C3_train_true.avg_travel_time, C3_train_true.mean_travel_time))"
   ]
  },
  {
   "cell_type": "code",
   "execution_count": null,
   "metadata": {
    "collapsed": true
   },
   "outputs": [],
   "source": []
  }
 ],
 "metadata": {
  "kernelspec": {
   "display_name": "Python 3",
   "language": "python",
   "name": "python3"
  },
  "language_info": {
   "codemirror_mode": {
    "name": "ipython",
    "version": 3
   },
   "file_extension": ".py",
   "mimetype": "text/x-python",
   "name": "python",
   "nbconvert_exporter": "python",
   "pygments_lexer": "ipython3",
   "version": "3.6.0"
  }
 },
 "nbformat": 4,
 "nbformat_minor": 2
}
