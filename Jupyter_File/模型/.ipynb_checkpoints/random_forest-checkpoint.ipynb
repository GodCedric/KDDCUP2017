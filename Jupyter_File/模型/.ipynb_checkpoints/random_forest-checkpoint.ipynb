{
 "cells": [
  {
   "cell_type": "markdown",
   "metadata": {},
   "source": [
    "# RandomForestRegressor"
   ]
  },
  {
   "cell_type": "markdown",
   "metadata": {},
   "source": [
    "2017-05-22"
   ]
  },
  {
   "cell_type": "code",
   "execution_count": 1,
   "metadata": {
    "collapsed": true
   },
   "outputs": [],
   "source": [
    "from sklearn.ensemble import RandomForestRegressor\n",
    "import numpy as np\n",
    "import pandas as pd\n",
    "from datetime import datetime,timedelta,date,time"
   ]
  },
  {
   "cell_type": "markdown",
   "metadata": {},
   "source": [
    "### 录入数据"
   ]
  },
  {
   "cell_type": "code",
   "execution_count": 2,
   "metadata": {
    "collapsed": true
   },
   "outputs": [],
   "source": [
    "travel_time_train_data = pd.read_csv('/home/godcedric/GitLocal/KDDCUP2017/加工过的数据集/2.0/以最近值填充的/travel_time_train_data.csv')\n",
    "volume_train_data = pd.read_csv('/home/godcedric/GitLocal/KDDCUP2017/加工过的数据集/2.0/以最近值填充的/volume_train_data.csv')\n",
    "travel_time_test_data = pd.read_csv('/home/godcedric/GitLocal/KDDCUP2017/加工过的数据集/2.0/以最近值填充的/test_travel_time_data.csv')\n",
    "volume_test_data = pd.read_csv('/home/godcedric/GitLocal/KDDCUP2017/加工过的数据集/2.0/以最近值填充的/test_volume_data.csv')"
   ]
  },
  {
   "cell_type": "markdown",
   "metadata": {},
   "source": [
    "### 准备数据"
   ]
  },
  {
   "cell_type": "code",
   "execution_count": null,
   "metadata": {
    "collapsed": true
   },
   "outputs": [],
   "source": [
    "# 分割训练集和验证集\n",
    "test_date = ['2016-10-11', '2016-10-12', '2016-10-13', '2016-10-14', '2016-10-15', '2016-10-16', '2016-10-17']\n",
    "def isin(x):\n",
    "    if x in test_date:\n",
    "        return 1\n",
    "    else:\n",
    "        return 0\n",
    "# 平均时间\n",
    "travel_time_train_data['is_test'] = travel_time_train_data['date'].map(isin)\n",
    "travel_time_train = travel_time_train_data[travel_time_train_data['is_test'] == 0]\n",
    "travel_time_val = travel_time_train_data[travel_time_train_data['is_test'] == 1]\n",
    "# 流量\n",
    "volume_train_data['is_test'] = volume_train_data['date'].map(isin)\n",
    "volume_train = volume_train_data[volume_train_data['is_test'] == 0]\n",
    "volume_val = volume_train_data[volume_train_data['is_test'] == 1]"
   ]
  },
  {
   "cell_type": "code",
   "execution_count": 3,
   "metadata": {
    "collapsed": true
   },
   "outputs": [],
   "source": [
    "# 分离标签和特征\n",
    "Y_time = travel_time_train.avg_travel_time\n",
    "X_time = travel_time_train.drop(['avg_travel_time'], axis=1)\n",
    "val_Y_time = travel_time_val.avg_travel_time\n",
    "val_X_time = travel_time_val.drop(['avg_travel_time'], axis=1)\n",
    "\n",
    "\n",
    "Y_volume = volume_train.volume\n",
    "X_volume = volume_train.drop(['volume'], axis=1)\n",
    "val_Y_volume = volume_val.volume\n",
    "val_X_volume = volume_val.drop(['volume'], axis=1)"
   ]
  },
  {
   "cell_type": "code",
   "execution_count": 4,
   "metadata": {
    "collapsed": false
   },
   "outputs": [],
   "source": [
    "# 平均时间\n",
    "# 选择特征\n",
    "X_time = X_time.drop(['intersection_id', 'tollgate_id', 'time_window', 'start_time', 'date', 'time'], axis=1)\n",
    "X_time = X_time.drop(['wind_direction', 'wind_speed', 'precipitation', 'SSD'], axis=1)\n",
    "X_time = X_time.drop(['last_40min', 'last_60min', 'last_80min', 'last_100min', 'last_120min'], axis=1)\n",
    "X_time = X_time.drop(['datemap', 'is_test'], axis=1)\n",
    "\n",
    "val_X_time = val_X_time.drop(['intersection_id', 'tollgate_id', 'time_window', 'start_time', 'date', 'time'], axis=1)\n",
    "val_X_time = val_X_time.drop(['wind_direction', 'wind_speed', 'precipitation', 'SSD'], axis=1)\n",
    "val_X_time = val_X_time.drop(['last_40min', 'last_60min', 'last_80min', 'last_100min', 'last_120min'], axis=1)\n",
    "val_X_time = val_X_time.drop(['datemap', 'is_test'], axis=1)\n",
    "\n",
    "# 测试集同步\n",
    "travel_time_submission = travel_time_test_data[['intersection_id', 'tollgate_id', 'time_window']]\n",
    "travel_time_test_data = travel_time_test_data.drop(['intersection_id', 'tollgate_id', 'time_window', 'start_time', 'date', 'time'], axis=1)\n",
    "travel_time_test_data = travel_time_test_data.drop(['wind_direction', 'wind_speed', 'precipitation', 'SSD'], axis=1)\n",
    "travel_time_test_data = travel_time_test_data.drop(['last_40min', 'last_60min', 'last_80min', 'last_100min', 'last_120min'], axis=1)\n",
    "travel_time_test_data = travel_time_test_data.drop(['datemap'], axis=1)"
   ]
  },
  {
   "cell_type": "code",
   "execution_count": 5,
   "metadata": {
    "collapsed": false
   },
   "outputs": [],
   "source": [
    "# 流量\n",
    "# 选择特征\n",
    "X_volume = X_volume.drop(['tollgate_id', 'direction', 'time_window', 'start_time', 'date', 'time'], axis=1)\n",
    "X_volume = X_volume.drop(['wind_direction', 'wind_speed', 'precipitation', 'SSD'], axis=1)\n",
    "X_volume = X_volume.drop(['last_40min', 'last_60min', 'last_80min', 'last_100min', 'last_120min'], axis=1)\n",
    "X_volume = X_volume.drop(['datemap'], axis=1)\n",
    "\n",
    "# 测试集同步\n",
    "volume_submission = volume_test_data[['tollgate_id', 'time_window', 'direction']]\n",
    "volume_test_data = volume_test_data.drop(['tollgate_id', 'direction', 'time_window', 'start_time', 'date', 'time'], axis=1)\n",
    "volume_test_data = volume_test_data.drop(['wind_direction', 'wind_speed', 'precipitation', 'SSD'], axis=1)\n",
    "volume_test_data = volume_test_data.drop(['last_40min', 'last_60min', 'last_80min', 'last_100min', 'last_120min'], axis=1)\n",
    "volume_test_data = volume_test_data.drop(['datemap'], axis=1)"
   ]
  },
  {
   "cell_type": "code",
   "execution_count": 6,
   "metadata": {
    "collapsed": true
   },
   "outputs": [],
   "source": [
    "# 字符串特征转换数值\n",
    "X_time['route'] = pd.factorize(X_time['route'])[0]\n",
    "travel_time_test_data['route'] = pd.factorize(travel_time_test_data['route'])[0]\n",
    "X_volume['pair'] = pd.factorize(X_volume['pair'])[0]\n",
    "volume_test_data['pair'] = pd.factorize(volume_test_data['pair'])[0]"
   ]
  },
  {
   "cell_type": "markdown",
   "metadata": {},
   "source": [
    "### 训练"
   ]
  },
  {
   "cell_type": "code",
   "execution_count": 9,
   "metadata": {
    "collapsed": false
   },
   "outputs": [
    {
     "name": "stdout",
     "output_type": "stream",
     "text": [
      "0.566169060852\n"
     ]
    },
    {
     "name": "stderr",
     "output_type": "stream",
     "text": [
      "/home/godcedric/anaconda3/lib/python3.6/site-packages/sklearn/ensemble/forest.py:723: UserWarning: Some inputs do not have OOB scores. This probably means too few trees were used to compute any reliable oob estimates.\n",
      "  warn(\"Some inputs do not have OOB scores. \"\n"
     ]
    }
   ],
   "source": [
    "# 默认值看下情况\n",
    "rf_default = RandomForestRegressor(oob_score = True, random_state = 100)\n",
    "rf_default.fit(X_time, Y_time)\n",
    "print(rf_default.oob_score_)  "
   ]
  },
  {
   "cell_type": "code",
   "execution_count": null,
   "metadata": {
    "collapsed": true
   },
   "outputs": [],
   "source": []
  }
 ],
 "metadata": {
  "kernelspec": {
   "display_name": "Python 3",
   "language": "python",
   "name": "python3"
  },
  "language_info": {
   "codemirror_mode": {
    "name": "ipython",
    "version": 3
   },
   "file_extension": ".py",
   "mimetype": "text/x-python",
   "name": "python",
   "nbconvert_exporter": "python",
   "pygments_lexer": "ipython3",
   "version": "3.6.0"
  }
 },
 "nbformat": 4,
 "nbformat_minor": 2
}
